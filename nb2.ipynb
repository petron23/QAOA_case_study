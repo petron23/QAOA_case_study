{
 "cells": [
  {
   "cell_type": "code",
   "execution_count": 1,
   "metadata": {},
   "outputs": [],
   "source": [
    "from nb1_module import generate_example"
   ]
  },
  {
   "cell_type": "code",
   "execution_count": 2,
   "metadata": {},
   "outputs": [
    {
     "name": "stdout",
     "output_type": "stream",
     "text": [
      "Charging unit with\n",
      " charging levels: [0, 1, 2, 3]\n",
      " time slots: [0, 1, 2, 3]\n",
      " cars to charge: car_green\n",
      "Car car_green: \n",
      " at charging station at time slots [0, 1, 2] \n",
      "  requires 4 energy units\n"
     ]
    }
   ],
   "source": [
    "charging_unit, car_green, qcio, converter, qubo, number_binary_variables, qubo_minimization_result = generate_example(random_values=False)\n",
    "print(charging_unit)\n",
    "print(car_green)\n"
   ]
  },
  {
   "cell_type": "code",
   "execution_count": 3,
   "metadata": {},
   "outputs": [
    {
     "name": "stdout",
     "output_type": "stream",
     "text": [
      "minimum point (binary): b_min =  [1. 0. 0. 1. 1. 0. 0. 0.]\n",
      "minimum value: f_3(b_min) =  6.0\n"
     ]
    }
   ],
   "source": [
    "b_min = qubo_minimization_result.x\n",
    "f_3_min = qubo_minimization_result.fval\n",
    "print(\"minimum point (binary): b_min = \", b_min)\n",
    "print(\"minimum value: f_3(b_min) = \", f_3_min)"
   ]
  },
  {
   "cell_type": "code",
   "execution_count": 4,
   "metadata": {},
   "outputs": [
    {
     "name": "stdout",
     "output_type": "stream",
     "text": [
      "minimum point (integer): p_min =  [1. 2. 1. 0.]\n",
      "minimum value: f_1(p_min) =  6.0\n",
      "minimum point feasible =  True\n"
     ]
    }
   ],
   "source": [
    "p_min = converter.interpret(b_min)\n",
    "f_1_min = qcio.objective.evaluate(p_min)\n",
    "p_min_feasible = qcio.is_feasible(p_min)\n",
    "print(\"minimum point (integer): p_min = \", p_min)\n",
    "print(\"minimum value: f_1(p_min) = \", f_1_min)\n",
    "print(\"minimum point feasible = \", p_min_feasible)"
   ]
  },
  {
   "cell_type": "code",
   "execution_count": 5,
   "metadata": {},
   "outputs": [
    {
     "data": {
      "application/vnd.plotly.v1+json": {
       "config": {
        "plotlyServerURL": "https://plot.ly"
       },
       "data": [
        {
         "marker": {
          "color": "green",
          "size": 30,
          "symbol": "square"
         },
         "mode": "markers",
         "name": "car_green",
         "showlegend": true,
         "type": "scatter",
         "x": [
          0.5
         ],
         "y": [
          0
         ]
        },
        {
         "marker": {
          "color": "green",
          "size": 30,
          "symbol": "square"
         },
         "mode": "markers",
         "name": "car_green",
         "showlegend": false,
         "type": "scatter",
         "x": [
          1.5,
          1.5
         ],
         "y": [
          0,
          1
         ]
        },
        {
         "marker": {
          "color": "green",
          "size": 30,
          "symbol": "square"
         },
         "mode": "markers",
         "name": "car_green",
         "showlegend": false,
         "type": "scatter",
         "x": [
          2.5
         ],
         "y": [
          0
         ]
        },
        {
         "marker": {
          "color": "green",
          "size": 30,
          "symbol": "square"
         },
         "mode": "markers",
         "name": "car_green",
         "showlegend": false,
         "type": "scatter",
         "x": [],
         "y": []
        }
       ],
       "layout": {
        "height": 300,
        "template": {
         "data": {
          "bar": [
           {
            "error_x": {
             "color": "#2a3f5f"
            },
            "error_y": {
             "color": "#2a3f5f"
            },
            "marker": {
             "line": {
              "color": "#E5ECF6",
              "width": 0.5
             },
             "pattern": {
              "fillmode": "overlay",
              "size": 10,
              "solidity": 0.2
             }
            },
            "type": "bar"
           }
          ],
          "barpolar": [
           {
            "marker": {
             "line": {
              "color": "#E5ECF6",
              "width": 0.5
             },
             "pattern": {
              "fillmode": "overlay",
              "size": 10,
              "solidity": 0.2
             }
            },
            "type": "barpolar"
           }
          ],
          "carpet": [
           {
            "aaxis": {
             "endlinecolor": "#2a3f5f",
             "gridcolor": "white",
             "linecolor": "white",
             "minorgridcolor": "white",
             "startlinecolor": "#2a3f5f"
            },
            "baxis": {
             "endlinecolor": "#2a3f5f",
             "gridcolor": "white",
             "linecolor": "white",
             "minorgridcolor": "white",
             "startlinecolor": "#2a3f5f"
            },
            "type": "carpet"
           }
          ],
          "choropleth": [
           {
            "colorbar": {
             "outlinewidth": 0,
             "ticks": ""
            },
            "type": "choropleth"
           }
          ],
          "contour": [
           {
            "colorbar": {
             "outlinewidth": 0,
             "ticks": ""
            },
            "colorscale": [
             [
              0,
              "#0d0887"
             ],
             [
              0.1111111111111111,
              "#46039f"
             ],
             [
              0.2222222222222222,
              "#7201a8"
             ],
             [
              0.3333333333333333,
              "#9c179e"
             ],
             [
              0.4444444444444444,
              "#bd3786"
             ],
             [
              0.5555555555555556,
              "#d8576b"
             ],
             [
              0.6666666666666666,
              "#ed7953"
             ],
             [
              0.7777777777777778,
              "#fb9f3a"
             ],
             [
              0.8888888888888888,
              "#fdca26"
             ],
             [
              1,
              "#f0f921"
             ]
            ],
            "type": "contour"
           }
          ],
          "contourcarpet": [
           {
            "colorbar": {
             "outlinewidth": 0,
             "ticks": ""
            },
            "type": "contourcarpet"
           }
          ],
          "heatmap": [
           {
            "colorbar": {
             "outlinewidth": 0,
             "ticks": ""
            },
            "colorscale": [
             [
              0,
              "#0d0887"
             ],
             [
              0.1111111111111111,
              "#46039f"
             ],
             [
              0.2222222222222222,
              "#7201a8"
             ],
             [
              0.3333333333333333,
              "#9c179e"
             ],
             [
              0.4444444444444444,
              "#bd3786"
             ],
             [
              0.5555555555555556,
              "#d8576b"
             ],
             [
              0.6666666666666666,
              "#ed7953"
             ],
             [
              0.7777777777777778,
              "#fb9f3a"
             ],
             [
              0.8888888888888888,
              "#fdca26"
             ],
             [
              1,
              "#f0f921"
             ]
            ],
            "type": "heatmap"
           }
          ],
          "heatmapgl": [
           {
            "colorbar": {
             "outlinewidth": 0,
             "ticks": ""
            },
            "colorscale": [
             [
              0,
              "#0d0887"
             ],
             [
              0.1111111111111111,
              "#46039f"
             ],
             [
              0.2222222222222222,
              "#7201a8"
             ],
             [
              0.3333333333333333,
              "#9c179e"
             ],
             [
              0.4444444444444444,
              "#bd3786"
             ],
             [
              0.5555555555555556,
              "#d8576b"
             ],
             [
              0.6666666666666666,
              "#ed7953"
             ],
             [
              0.7777777777777778,
              "#fb9f3a"
             ],
             [
              0.8888888888888888,
              "#fdca26"
             ],
             [
              1,
              "#f0f921"
             ]
            ],
            "type": "heatmapgl"
           }
          ],
          "histogram": [
           {
            "marker": {
             "pattern": {
              "fillmode": "overlay",
              "size": 10,
              "solidity": 0.2
             }
            },
            "type": "histogram"
           }
          ],
          "histogram2d": [
           {
            "colorbar": {
             "outlinewidth": 0,
             "ticks": ""
            },
            "colorscale": [
             [
              0,
              "#0d0887"
             ],
             [
              0.1111111111111111,
              "#46039f"
             ],
             [
              0.2222222222222222,
              "#7201a8"
             ],
             [
              0.3333333333333333,
              "#9c179e"
             ],
             [
              0.4444444444444444,
              "#bd3786"
             ],
             [
              0.5555555555555556,
              "#d8576b"
             ],
             [
              0.6666666666666666,
              "#ed7953"
             ],
             [
              0.7777777777777778,
              "#fb9f3a"
             ],
             [
              0.8888888888888888,
              "#fdca26"
             ],
             [
              1,
              "#f0f921"
             ]
            ],
            "type": "histogram2d"
           }
          ],
          "histogram2dcontour": [
           {
            "colorbar": {
             "outlinewidth": 0,
             "ticks": ""
            },
            "colorscale": [
             [
              0,
              "#0d0887"
             ],
             [
              0.1111111111111111,
              "#46039f"
             ],
             [
              0.2222222222222222,
              "#7201a8"
             ],
             [
              0.3333333333333333,
              "#9c179e"
             ],
             [
              0.4444444444444444,
              "#bd3786"
             ],
             [
              0.5555555555555556,
              "#d8576b"
             ],
             [
              0.6666666666666666,
              "#ed7953"
             ],
             [
              0.7777777777777778,
              "#fb9f3a"
             ],
             [
              0.8888888888888888,
              "#fdca26"
             ],
             [
              1,
              "#f0f921"
             ]
            ],
            "type": "histogram2dcontour"
           }
          ],
          "mesh3d": [
           {
            "colorbar": {
             "outlinewidth": 0,
             "ticks": ""
            },
            "type": "mesh3d"
           }
          ],
          "parcoords": [
           {
            "line": {
             "colorbar": {
              "outlinewidth": 0,
              "ticks": ""
             }
            },
            "type": "parcoords"
           }
          ],
          "pie": [
           {
            "automargin": true,
            "type": "pie"
           }
          ],
          "scatter": [
           {
            "fillpattern": {
             "fillmode": "overlay",
             "size": 10,
             "solidity": 0.2
            },
            "type": "scatter"
           }
          ],
          "scatter3d": [
           {
            "line": {
             "colorbar": {
              "outlinewidth": 0,
              "ticks": ""
             }
            },
            "marker": {
             "colorbar": {
              "outlinewidth": 0,
              "ticks": ""
             }
            },
            "type": "scatter3d"
           }
          ],
          "scattercarpet": [
           {
            "marker": {
             "colorbar": {
              "outlinewidth": 0,
              "ticks": ""
             }
            },
            "type": "scattercarpet"
           }
          ],
          "scattergeo": [
           {
            "marker": {
             "colorbar": {
              "outlinewidth": 0,
              "ticks": ""
             }
            },
            "type": "scattergeo"
           }
          ],
          "scattergl": [
           {
            "marker": {
             "colorbar": {
              "outlinewidth": 0,
              "ticks": ""
             }
            },
            "type": "scattergl"
           }
          ],
          "scattermapbox": [
           {
            "marker": {
             "colorbar": {
              "outlinewidth": 0,
              "ticks": ""
             }
            },
            "type": "scattermapbox"
           }
          ],
          "scatterpolar": [
           {
            "marker": {
             "colorbar": {
              "outlinewidth": 0,
              "ticks": ""
             }
            },
            "type": "scatterpolar"
           }
          ],
          "scatterpolargl": [
           {
            "marker": {
             "colorbar": {
              "outlinewidth": 0,
              "ticks": ""
             }
            },
            "type": "scatterpolargl"
           }
          ],
          "scatterternary": [
           {
            "marker": {
             "colorbar": {
              "outlinewidth": 0,
              "ticks": ""
             }
            },
            "type": "scatterternary"
           }
          ],
          "surface": [
           {
            "colorbar": {
             "outlinewidth": 0,
             "ticks": ""
            },
            "colorscale": [
             [
              0,
              "#0d0887"
             ],
             [
              0.1111111111111111,
              "#46039f"
             ],
             [
              0.2222222222222222,
              "#7201a8"
             ],
             [
              0.3333333333333333,
              "#9c179e"
             ],
             [
              0.4444444444444444,
              "#bd3786"
             ],
             [
              0.5555555555555556,
              "#d8576b"
             ],
             [
              0.6666666666666666,
              "#ed7953"
             ],
             [
              0.7777777777777778,
              "#fb9f3a"
             ],
             [
              0.8888888888888888,
              "#fdca26"
             ],
             [
              1,
              "#f0f921"
             ]
            ],
            "type": "surface"
           }
          ],
          "table": [
           {
            "cells": {
             "fill": {
              "color": "#EBF0F8"
             },
             "line": {
              "color": "white"
             }
            },
            "header": {
             "fill": {
              "color": "#C8D4E3"
             },
             "line": {
              "color": "white"
             }
            },
            "type": "table"
           }
          ]
         },
         "layout": {
          "annotationdefaults": {
           "arrowcolor": "#2a3f5f",
           "arrowhead": 0,
           "arrowwidth": 1
          },
          "autotypenumbers": "strict",
          "coloraxis": {
           "colorbar": {
            "outlinewidth": 0,
            "ticks": ""
           }
          },
          "colorscale": {
           "diverging": [
            [
             0,
             "#8e0152"
            ],
            [
             0.1,
             "#c51b7d"
            ],
            [
             0.2,
             "#de77ae"
            ],
            [
             0.3,
             "#f1b6da"
            ],
            [
             0.4,
             "#fde0ef"
            ],
            [
             0.5,
             "#f7f7f7"
            ],
            [
             0.6,
             "#e6f5d0"
            ],
            [
             0.7,
             "#b8e186"
            ],
            [
             0.8,
             "#7fbc41"
            ],
            [
             0.9,
             "#4d9221"
            ],
            [
             1,
             "#276419"
            ]
           ],
           "sequential": [
            [
             0,
             "#0d0887"
            ],
            [
             0.1111111111111111,
             "#46039f"
            ],
            [
             0.2222222222222222,
             "#7201a8"
            ],
            [
             0.3333333333333333,
             "#9c179e"
            ],
            [
             0.4444444444444444,
             "#bd3786"
            ],
            [
             0.5555555555555556,
             "#d8576b"
            ],
            [
             0.6666666666666666,
             "#ed7953"
            ],
            [
             0.7777777777777778,
             "#fb9f3a"
            ],
            [
             0.8888888888888888,
             "#fdca26"
            ],
            [
             1,
             "#f0f921"
            ]
           ],
           "sequentialminus": [
            [
             0,
             "#0d0887"
            ],
            [
             0.1111111111111111,
             "#46039f"
            ],
            [
             0.2222222222222222,
             "#7201a8"
            ],
            [
             0.3333333333333333,
             "#9c179e"
            ],
            [
             0.4444444444444444,
             "#bd3786"
            ],
            [
             0.5555555555555556,
             "#d8576b"
            ],
            [
             0.6666666666666666,
             "#ed7953"
            ],
            [
             0.7777777777777778,
             "#fb9f3a"
            ],
            [
             0.8888888888888888,
             "#fdca26"
            ],
            [
             1,
             "#f0f921"
            ]
           ]
          },
          "colorway": [
           "#636efa",
           "#EF553B",
           "#00cc96",
           "#ab63fa",
           "#FFA15A",
           "#19d3f3",
           "#FF6692",
           "#B6E880",
           "#FF97FF",
           "#FECB52"
          ],
          "font": {
           "color": "#2a3f5f"
          },
          "geo": {
           "bgcolor": "white",
           "lakecolor": "white",
           "landcolor": "#E5ECF6",
           "showlakes": true,
           "showland": true,
           "subunitcolor": "white"
          },
          "hoverlabel": {
           "align": "left"
          },
          "hovermode": "closest",
          "mapbox": {
           "style": "light"
          },
          "paper_bgcolor": "white",
          "plot_bgcolor": "#E5ECF6",
          "polar": {
           "angularaxis": {
            "gridcolor": "white",
            "linecolor": "white",
            "ticks": ""
           },
           "bgcolor": "#E5ECF6",
           "radialaxis": {
            "gridcolor": "white",
            "linecolor": "white",
            "ticks": ""
           }
          },
          "scene": {
           "xaxis": {
            "backgroundcolor": "#E5ECF6",
            "gridcolor": "white",
            "gridwidth": 2,
            "linecolor": "white",
            "showbackground": true,
            "ticks": "",
            "zerolinecolor": "white"
           },
           "yaxis": {
            "backgroundcolor": "#E5ECF6",
            "gridcolor": "white",
            "gridwidth": 2,
            "linecolor": "white",
            "showbackground": true,
            "ticks": "",
            "zerolinecolor": "white"
           },
           "zaxis": {
            "backgroundcolor": "#E5ECF6",
            "gridcolor": "white",
            "gridwidth": 2,
            "linecolor": "white",
            "showbackground": true,
            "ticks": "",
            "zerolinecolor": "white"
           }
          },
          "shapedefaults": {
           "line": {
            "color": "#2a3f5f"
           }
          },
          "ternary": {
           "aaxis": {
            "gridcolor": "white",
            "linecolor": "white",
            "ticks": ""
           },
           "baxis": {
            "gridcolor": "white",
            "linecolor": "white",
            "ticks": ""
           },
           "bgcolor": "#E5ECF6",
           "caxis": {
            "gridcolor": "white",
            "linecolor": "white",
            "ticks": ""
           }
          },
          "title": {
           "x": 0.05
          },
          "xaxis": {
           "automargin": true,
           "gridcolor": "white",
           "linecolor": "white",
           "ticks": "",
           "title": {
            "standoff": 15
           },
           "zerolinecolor": "white",
           "zerolinewidth": 2
          },
          "yaxis": {
           "automargin": true,
           "gridcolor": "white",
           "linecolor": "white",
           "ticks": "",
           "title": {
            "standoff": 15
           },
           "zerolinecolor": "white",
           "zerolinewidth": 2
          }
         }
        },
        "width": 350,
        "xaxis": {
         "dtick": 1,
         "range": [
          0.01,
          4
         ],
         "tick0": 1,
         "ticktext": [
          0,
          1,
          2,
          3
         ],
         "tickvals": [
          0.5,
          1.5,
          2.5,
          3.5
         ],
         "title": {
          "font": {
           "size": 12
          },
          "text": "time slot"
         }
        },
        "yaxis": {
         "range": [
          -0.6,
          3
         ],
         "ticktext": [
          0,
          1,
          2,
          3
         ],
         "tickvals": [
          -0.5,
          0.5,
          1.5,
          2.5
         ],
         "title": {
          "font": {
           "size": 12
          },
          "text": "charging level"
         },
         "zeroline": false
        }
       }
      }
     },
     "metadata": {},
     "output_type": "display_data"
    }
   ],
   "source": [
    "from utils import plot_charging_schedule\n",
    "fig = plot_charging_schedule(\n",
    "charging_unit, p_min, marker_size=30)\n",
    "fig.update_layout(width=350, height=300)\n",
    "fig.show()"
   ]
  },
  {
   "cell_type": "markdown",
   "metadata": {},
   "source": [
    "### Revisiting QUBO"
   ]
  },
  {
   "cell_type": "markdown",
   "metadata": {},
   "source": [
    "The general form of QUBO has the form:\n",
    "\n",
    "$\\min\\limits_{\\mathbf{b} \\in \\{0, 1\\}^n} f_3(\\mathbf{b})$\n",
    "\n",
    "$f_3( \\mathbf{b}) = \\mathbf{b}^T A \\mathbf{b}+ L \\mathbf{b} + c$\n",
    "\n",
    "$A \\in \\mathbb{R}^{n \\times n}; \\quad L \\in \\mathbb{R}^{n \\times 1}; \\quad c \\in \\mathbb{R}$\n"
   ]
  },
  {
   "cell_type": "markdown",
   "metadata": {},
   "source": [
    "(The precise form of $f_3$ is derived in nb1 where it is shown how to obtain the it from a QCIO.)\n",
    "Let us transform it into an Ising Hamiltonian. Writing the equation in coordinate representation"
   ]
  },
  {
   "cell_type": "markdown",
   "metadata": {},
   "source": [
    "\n",
    "$$f_3(\\mathbf{b}) = \\sum\\limits_{i=0}^{n-1} \\sum\\limits_{j>i}^{n-1} a_{ij} b_i b_j + \\sum\\limits_{i=0}^{n-1} l_i b_i + c$$\n"
   ]
  },
  {
   "cell_type": "markdown",
   "metadata": {},
   "source": [
    "The following operation is applied:"
   ]
  },
  {
   "cell_type": "markdown",
   "metadata": {},
   "source": [
    "$$b_i \\leftrightarrow \\frac{1}{2} \\left( I^{\\bigotimes n} - \\sigma_Z^{(i)} \\right)$$"
   ]
  },
  {
   "cell_type": "markdown",
   "metadata": {},
   "source": [
    "Where"
   ]
  },
  {
   "cell_type": "markdown",
   "metadata": {},
   "source": [
    "$I = \\begin{bmatrix} 1 & 0 \\\\ 0 & 1 \\end{bmatrix}$,\n",
    "\n",
    "$\\sigma_Z = I\\otimes ... \\otimes I \\otimes Z_{[\\text{at ith pos}]} \\otimes I \\otimes...\\otimes I$,\n",
    "\n",
    "$Z = \\begin{bmatrix} 1 & 0 \\\\ 0 & -1 \\end{bmatrix}$.\n",
    "\n"
   ]
  },
  {
   "cell_type": "markdown",
   "metadata": {},
   "source": [
    "This substitution can be understood by using an Ising lattice that has instead of $\\{-1, 1\\}$ the values $\\{0, 1\\}$ on its sites. This is demonstrated below. "
   ]
  },
  {
   "cell_type": "code",
   "execution_count": 8,
   "metadata": {},
   "outputs": [
    {
     "name": "stdout",
     "output_type": "stream",
     "text": [
      "eigenvalues of Z: [ 1. -1.]\n",
      "eigenvectors of Z: [1. 0.] [0. 1.]\n",
      "\n",
      "eigenvalues of σ_z: [0. 1.]\n",
      "eigenvectors of σ_z: [1. 0.] [0. 1.]\n"
     ]
    }
   ],
   "source": [
    "import numpy as np\n",
    "\n",
    "Z = np.array([[1, 0], [0, -1]])\n",
    "\n",
    "print(\"eigenvalues of Z:\", np.linalg.eig(Z)[0])\n",
    "print(\"eigenvectors of Z:\", np.linalg.eig(Z)[1][0], np.linalg.eig(Z)[1][1])\n",
    "print(\"\")\n",
    "\n",
    "Sigma_Z =1/2 * (np.array([[1, 0], [0, 1]]) - np.array([[1, 0], [0, -1]]))\n",
    "print(\"eigenvalues of \\u03c3_z:\", np.linalg.eig(Sigma_Z)[0])\n",
    "print(\"eigenvectors of \\u03c3_z:\", np.linalg.eig(Sigma_Z)[1][0], np.linalg.eig(Sigma_Z)[1][1])\n"
   ]
  },
  {
   "cell_type": "markdown",
   "metadata": {},
   "source": [
    "Thus the (problem's) Hamiltonian reads:"
   ]
  },
  {
   "cell_type": "markdown",
   "metadata": {},
   "source": [
    "$$H_p = \\sum\\limits_{i=0}^{n-1} \\sum\\limits_{j>i}^{n-1} h_{ij} \\sigma_Z^{(i)} \\sigma_Z^{(j)} + \\sum\\limits_{i=0}^{n-1} h'_i \\sigma_Z^{(i)} + h''I^{\\otimes n} $$"
   ]
  },
  {
   "cell_type": "markdown",
   "metadata": {},
   "source": [
    "A general state in the Hilbert space spanned by $\\{\\ket{b}\\}$:\n",
    "\n",
    "$$ {\\ket{\\psi}} = \\sum\\limits_{\\mathbf{b}\\in\\{0,1\\}^n}\\lambda_b \\ket{b}$$"
   ]
  },
  {
   "cell_type": "markdown",
   "metadata": {},
   "source": [
    "Where for the complex $\\lambda$'s:\n",
    "$\\sum\\limits_{\\mathbf{b}\\in\\{0,1\\}^n} |\\lambda_b|^2 = 1$."
   ]
  },
  {
   "cell_type": "markdown",
   "metadata": {},
   "source": [
    "The following holds: \n",
    "$\\bra{\\psi} H_p \\ket{\\psi} = \\sum\\limits_{{\\mathbf{b}\\in\\{0,1\\}^n}} | \\lambda|^2 f_3(\\mathbf{b})$"
   ]
  },
  {
   "cell_type": "markdown",
   "metadata": {},
   "source": [
    "QuadraticProgram module can implements the above transformations: it creates an ising and an ising off-set function. This latter corresponds to the constant shift in energy."
   ]
  },
  {
   "cell_type": "code",
   "execution_count": 9,
   "metadata": {},
   "outputs": [],
   "source": [
    "ising, ising_offset = qubo.to_ising()"
   ]
  },
  {
   "cell_type": "code",
   "execution_count": 10,
   "metadata": {},
   "outputs": [
    {
     "name": "stdout",
     "output_type": "stream",
     "text": [
      "ising: SparsePauliOp(['IIIIIIIZ', 'IIIIIIZI', 'IIIIIZII', 'IIIIZIII', 'IIIZIIII', 'IIZIIIII', 'IIIIIIZZ', 'IIIIIZIZ', 'IIIIIZZI', 'IIIIZIIZ', 'IIIIZIZI', 'IIIIZZII', 'IIIZIIIZ', 'IIIZIIZI', 'IIIZIZII', 'IIIZZIII', 'IIZIIIIZ', 'IIZIIIZI', 'IIZIIZII', 'IIZIZIII', 'IIZZIIII', 'IZIIIIII', 'ZZIIIIII', 'ZIIIIIII'],\n",
      "              coeffs=[-4.05+0.j, -8.1 +0.j, -4.05+0.j, -8.1 +0.j, -4.05+0.j, -8.1 +0.j,\n",
      "  6.1 +0.j,  2.55+0.j,  5.1 +0.j,  5.1 +0.j, 10.2 +0.j,  6.1 +0.j,\n",
      "  2.55+0.j,  5.1 +0.j,  2.55+0.j,  5.1 +0.j,  5.1 +0.j, 10.2 +0.j,\n",
      "  5.1 +0.j, 10.2 +0.j,  6.1 +0.j, -1.5 +0.j,  1.  +0.j, -3.  +0.j]) \n",
      "\n",
      " ising_offset: 34.39999999999999\n"
     ]
    }
   ],
   "source": [
    "print(\"ising:\", ising, \"\\n\\n\", \"ising_offset:\", ising_offset)"
   ]
  },
  {
   "cell_type": "markdown",
   "metadata": {},
   "source": [
    "Let's show that that the expectation value of the Hamiltonian is what we got from the equation above.\n",
    "OPFLOW IS DEPRICATED, TODO LATER"
   ]
  },
  {
   "cell_type": "code",
   "execution_count": 111,
   "metadata": {},
   "outputs": [
    {
     "name": "stderr",
     "output_type": "stream",
     "text": [
      "C:\\Users\\uic53403\\AppData\\Local\\Temp\\ipykernel_16380\\1649041562.py:5: DeprecationWarning:\n",
      "\n",
      "The class ``qiskit.opflow.state_fns.dict_state_fn.DictStateFn`` is deprecated as of qiskit-terra 0.24.0. It will be removed no earlier than 3 months after the release date. For code migration guidelines, visit https://qisk.it/opflow_migration.\n",
      "\n",
      "C:\\Users\\uic53403\\AppData\\Local\\Temp\\ipykernel_16380\\1649041562.py:9: DeprecationWarning:\n",
      "\n",
      "The class ``qiskit.opflow.state_fns.operator_state_fn.OperatorStateFn`` is deprecated as of qiskit-terra 0.24.0. It will be removed no earlier than 3 months after the release date. For code migration guidelines, visit https://qisk.it/opflow_migration.\n",
      "\n"
     ]
    },
    {
     "ename": "AttributeError",
     "evalue": "'SparsePauliOp' object has no attribute 'eval'",
     "output_type": "error",
     "traceback": [
      "\u001b[1;31m---------------------------------------------------------------------------\u001b[0m",
      "\u001b[1;31mAttributeError\u001b[0m                            Traceback (most recent call last)",
      "\u001b[1;32m~\\AppData\\Local\\Temp\\ipykernel_16380\\1649041562.py\u001b[0m in \u001b[0;36m<module>\u001b[1;34m\u001b[0m\n\u001b[0;32m      8\u001b[0m \u001b[1;33m\u001b[0m\u001b[0m\n\u001b[0;32m      9\u001b[0m \u001b[0mobservable\u001b[0m \u001b[1;33m=\u001b[0m \u001b[0mOperatorStateFn\u001b[0m\u001b[1;33m(\u001b[0m\u001b[0mising\u001b[0m\u001b[1;33m,\u001b[0m \u001b[0mis_measurement\u001b[0m\u001b[1;33m=\u001b[0m\u001b[1;32mTrue\u001b[0m\u001b[1;33m)\u001b[0m\u001b[1;33m\u001b[0m\u001b[1;33m\u001b[0m\u001b[0m\n\u001b[1;32m---> 10\u001b[1;33m \u001b[0mexpectation_without_offset\u001b[0m \u001b[1;33m=\u001b[0m \u001b[0mnp\u001b[0m\u001b[1;33m.\u001b[0m\u001b[0mreal\u001b[0m\u001b[1;33m(\u001b[0m\u001b[0mobservable\u001b[0m\u001b[1;33m.\u001b[0m\u001b[0meval\u001b[0m\u001b[1;33m(\u001b[0m\u001b[0mpsi\u001b[0m\u001b[1;33m)\u001b[0m\u001b[1;33m)\u001b[0m\u001b[1;33m\u001b[0m\u001b[1;33m\u001b[0m\u001b[0m\n\u001b[0m\u001b[0;32m     11\u001b[0m \u001b[1;33m\u001b[0m\u001b[0m\n\u001b[0;32m     12\u001b[0m \u001b[0mexpectation\u001b[0m \u001b[1;33m=\u001b[0m \u001b[0mexpectation_without_offset\u001b[0m \u001b[1;33m+\u001b[0m \u001b[0mising_offset\u001b[0m\u001b[1;33m\u001b[0m\u001b[1;33m\u001b[0m\u001b[0m\n",
      "\u001b[1;32md:\\Anaconda3\\lib\\site-packages\\qiskit\\opflow\\state_fns\\operator_state_fn.py\u001b[0m in \u001b[0;36meval\u001b[1;34m(self, front)\u001b[0m\n\u001b[0;32m    254\u001b[0m             \u001b[0mfront\u001b[0m \u001b[1;33m=\u001b[0m \u001b[0mfront\u001b[0m\u001b[1;33m.\u001b[0m\u001b[0meval\u001b[0m\u001b[1;33m(\u001b[0m\u001b[1;33m)\u001b[0m\u001b[1;33m\u001b[0m\u001b[1;33m\u001b[0m\u001b[0m\n\u001b[0;32m    255\u001b[0m \u001b[1;33m\u001b[0m\u001b[0m\n\u001b[1;32m--> 256\u001b[1;33m         \u001b[1;32mreturn\u001b[0m \u001b[0mfront\u001b[0m\u001b[1;33m.\u001b[0m\u001b[0madjoint\u001b[0m\u001b[1;33m(\u001b[0m\u001b[1;33m)\u001b[0m\u001b[1;33m.\u001b[0m\u001b[0meval\u001b[0m\u001b[1;33m(\u001b[0m\u001b[0mcast\u001b[0m\u001b[1;33m(\u001b[0m\u001b[0mOperatorBase\u001b[0m\u001b[1;33m,\u001b[0m \u001b[0mself\u001b[0m\u001b[1;33m.\u001b[0m\u001b[0mprimitive\u001b[0m\u001b[1;33m.\u001b[0m\u001b[0meval\u001b[0m\u001b[1;33m(\u001b[0m\u001b[0mfront\u001b[0m\u001b[1;33m)\u001b[0m\u001b[1;33m)\u001b[0m\u001b[1;33m)\u001b[0m \u001b[1;33m*\u001b[0m \u001b[0mself\u001b[0m\u001b[1;33m.\u001b[0m\u001b[0mcoeff\u001b[0m\u001b[1;33m\u001b[0m\u001b[1;33m\u001b[0m\u001b[0m\n\u001b[0m\u001b[0;32m    257\u001b[0m \u001b[1;33m\u001b[0m\u001b[0m\n\u001b[0;32m    258\u001b[0m     \u001b[1;32mdef\u001b[0m \u001b[0msample\u001b[0m\u001b[1;33m(\u001b[0m\u001b[0mself\u001b[0m\u001b[1;33m,\u001b[0m \u001b[0mshots\u001b[0m\u001b[1;33m:\u001b[0m \u001b[0mint\u001b[0m \u001b[1;33m=\u001b[0m \u001b[1;36m1024\u001b[0m\u001b[1;33m,\u001b[0m \u001b[0mmassive\u001b[0m\u001b[1;33m:\u001b[0m \u001b[0mbool\u001b[0m \u001b[1;33m=\u001b[0m \u001b[1;32mFalse\u001b[0m\u001b[1;33m,\u001b[0m \u001b[0mreverse_endianness\u001b[0m\u001b[1;33m:\u001b[0m \u001b[0mbool\u001b[0m \u001b[1;33m=\u001b[0m \u001b[1;32mFalse\u001b[0m\u001b[1;33m)\u001b[0m\u001b[1;33m:\u001b[0m\u001b[1;33m\u001b[0m\u001b[1;33m\u001b[0m\u001b[0m\n",
      "\u001b[1;31mAttributeError\u001b[0m: 'SparsePauliOp' object has no attribute 'eval'"
     ]
    }
   ],
   "source": [
    "#DEPRICATED!!!\n",
    "\n",
    "import numpy as np\n",
    "from qiskit.opflow import DictStateFn, OperatorBase\n",
    "from qiskit.opflow.state_fns import OperatorStateFn\n",
    "\n",
    "psi = DictStateFn({'00011100': .7,\n",
    "                  '10101010': .2j,\n",
    "                  '11110000': .6 + 1j*np.sqrt(.11)})\n",
    "\n",
    "observable = OperatorStateFn(ising, is_measurement=True)\n",
    "expectation_without_offset = np.real(observable.eval(psi))\n",
    "\n",
    "expectation = expectation_without_offset + ising_offset\n",
    "\n",
    "print(\"<\\u03A8| H_p |\\u03A8>\", expectation)"
   ]
  },
  {
   "cell_type": "code",
   "execution_count": 16,
   "metadata": {},
   "outputs": [
    {
     "data": {
      "text/plain": [
       "OperatorStateFn(SparsePauliOp(['IIIIIIIZ', 'IIIIIIZI', 'IIIIIZII', 'IIIIZIII', 'IIIZIIII', 'IIZIIIII', 'IIIIIIZZ', 'IIIIIZIZ', 'IIIIIZZI', 'IIIIZIIZ', 'IIIIZIZI', 'IIIIZZII', 'IIIZIIIZ', 'IIIZIIZI', 'IIIZIZII', 'IIIZZIII', 'IIZIIIIZ', 'IIZIIIZI', 'IIZIIZII', 'IIZIZIII', 'IIZZIIII', 'IZIIIIII', 'ZZIIIIII', 'ZIIIIIII'],\n",
       "              coeffs=[-4.05+0.j, -8.1 +0.j, -4.05+0.j, -8.1 +0.j, -4.05+0.j, -8.1 +0.j,\n",
       "  6.1 +0.j,  2.55+0.j,  5.1 +0.j,  5.1 +0.j, 10.2 +0.j,  6.1 +0.j,\n",
       "  2.55+0.j,  5.1 +0.j,  2.55+0.j,  5.1 +0.j,  5.1 +0.j, 10.2 +0.j,\n",
       "  5.1 +0.j, 10.2 +0.j,  6.1 +0.j, -1.5 +0.j,  1.  +0.j, -3.  +0.j]), coeff=1.0, is_measurement=True)"
      ]
     },
     "execution_count": 16,
     "metadata": {},
     "output_type": "execute_result"
    }
   ],
   "source": [
    "observable"
   ]
  },
  {
   "cell_type": "code",
   "execution_count": 13,
   "metadata": {},
   "outputs": [
    {
     "data": {
      "text/plain": [
       "SparsePauliOp(['IIIIIIIZ', 'IIIIIIZI', 'IIIIIZII', 'IIIIZIII', 'IIIZIIII', 'IIZIIIII', 'IIIIIIZZ', 'IIIIIZIZ', 'IIIIIZZI', 'IIIIZIIZ', 'IIIIZIZI', 'IIIIZZII', 'IIIZIIIZ', 'IIIZIIZI', 'IIIZIZII', 'IIIZZIII', 'IIZIIIIZ', 'IIZIIIZI', 'IIZIIZII', 'IIZIZIII', 'IIZZIIII', 'IZIIIIII', 'ZZIIIIII', 'ZIIIIIII'],\n",
       "              coeffs=[-4.05+0.j, -8.1 +0.j, -4.05+0.j, -8.1 +0.j, -4.05+0.j, -8.1 +0.j,\n",
       "  6.1 +0.j,  2.55+0.j,  5.1 +0.j,  5.1 +0.j, 10.2 +0.j,  6.1 +0.j,\n",
       "  2.55+0.j,  5.1 +0.j,  2.55+0.j,  5.1 +0.j,  5.1 +0.j, 10.2 +0.j,\n",
       "  5.1 +0.j, 10.2 +0.j,  6.1 +0.j, -1.5 +0.j,  1.  +0.j, -3.  +0.j])"
      ]
     },
     "execution_count": 13,
     "metadata": {},
     "output_type": "execute_result"
    }
   ],
   "source": [
    "ising"
   ]
  },
  {
   "cell_type": "code",
   "execution_count": 101,
   "metadata": {},
   "outputs": [
    {
     "data": {
      "text/plain": [
       "PauliList(['IIIIIIIZ', 'IIIIIIZI', 'IIIIIZII', 'IIIIZIII', 'IIIZIIII',\n",
       "           'IIZIIIII', 'IIIIIIZZ', 'IIIIIZIZ', 'IIIIIZZI', 'IIIIZIIZ',\n",
       "           'IIIIZIZI', 'IIIIZZII', 'IIIZIIIZ', 'IIIZIIZI', 'IIIZIZII',\n",
       "           'IIIZZIII', 'IIZIIIIZ', 'IIZIIIZI', 'IIZIIZII', 'IIZIZIII',\n",
       "           'IIZZIIII', 'IZIIIIII', 'ZZIIIIII', 'ZIIIIIII'])"
      ]
     },
     "execution_count": 101,
     "metadata": {},
     "output_type": "execute_result"
    }
   ],
   "source": [
    "ising.paulis"
   ]
  },
  {
   "cell_type": "code",
   "execution_count": 19,
   "metadata": {},
   "outputs": [],
   "source": [
    "from qiskit.circuit.library import QAOAAnsatz\n",
    "\n",
    "qaoa_reps = 2\n",
    "qaoa_ansatz = QAOAAnsatz(cost_operator=ising, reps=qaoa_reps, name = \"qaoa\")\n",
    "qaoa_ansatz.measure_active()"
   ]
  },
  {
   "cell_type": "code",
   "execution_count": 21,
   "metadata": {},
   "outputs": [
    {
     "data": {
      "image/png": "[encoded data removed]",
      "text/plain": [
       "<Figure size 4369.37x392.972 with 1 Axes>"
      ]
     },
     "execution_count": 21,
     "metadata": {},
     "output_type": "execute_result"
    }
   ],
   "source": [
    "qaoa_ansatz.decompose(reps=1).draw(\"mpl\",scale = .5, fold =-1)"
   ]
  },
  {
   "cell_type": "code",
   "execution_count": 22,
   "metadata": {},
   "outputs": [
    {
     "data": {
      "text/plain": [
       "ParameterView([ParameterVectorElement(β[0]), ParameterVectorElement(β[1]), ParameterVectorElement(γ[0]), ParameterVectorElement(γ[1])])"
      ]
     },
     "execution_count": 22,
     "metadata": {},
     "output_type": "execute_result"
    }
   ],
   "source": [
    "qaoa_ansatz.parameters"
   ]
  },
  {
   "cell_type": "markdown",
   "metadata": {},
   "source": [
    "Set the initial parameters diffetently"
   ]
  },
  {
   "cell_type": "code",
   "execution_count": 128,
   "metadata": {},
   "outputs": [],
   "source": [
    "betas = [1.23, 2.31]\n",
    "gammas = [3.21, 4.32]\n",
    "\n",
    "parameter_values = [*betas, *gammas]\n",
    "parameters = qaoa_ansatz.parameters\n",
    "\n",
    "parameter_bindings = dict(zip(parameters, parameter_values))\n",
    "\n",
    "qaoa_with_parameters = qaoa_ansatz.bind_parameters(parameter_bindings)"
   ]
  },
  {
   "cell_type": "code",
   "execution_count": 31,
   "metadata": {},
   "outputs": [
    {
     "data": {
      "image/png": "[encoded data removed]",
      "text/plain": [
       "<Figure size 4369.37x392.972 with 1 Axes>"
      ]
     },
     "execution_count": 31,
     "metadata": {},
     "output_type": "execute_result"
    }
   ],
   "source": [
    "qaoa_with_parameters.decompose(reps=1).draw(\"mpl\",scale = .5, fold =-1)"
   ]
  },
  {
   "cell_type": "code",
   "execution_count": 32,
   "metadata": {},
   "outputs": [],
   "source": [
    "from qiskit_aer import AerSimulator\n",
    "number_of_shots = 8000\n",
    "aer_simulator = AerSimulator(method=\"statevector\", shots=number_of_shots)\n",
    "# Decompose the circuit such that the gates can be simulated with the\n",
    "# AerSimulator\n",
    "qaoa_with_parameters_decomposed = qaoa_with_parameters.decompose(reps=3)\n",
    "result = aer_simulator.run(qaoa_with_parameters_decomposed).result()"
   ]
  },
  {
   "cell_type": "code",
   "execution_count": 33,
   "metadata": {},
   "outputs": [
    {
     "data": {
      "image/png": "[encoded data removed]",
      "text/plain": [
       "<Figure size 1000x500 with 1 Axes>"
      ]
     },
     "execution_count": 33,
     "metadata": {},
     "output_type": "execute_result"
    }
   ],
   "source": [
    "from qiskit.visualization import plot_histogram\n",
    "counts = result.get_counts()\n",
    "# Plot the 40 bitstrings with the highest count.\n",
    "plot_histogram(\n",
    "counts,\n",
    "number_to_keep=40,\n",
    "sort=\"value_desc\",\n",
    "bar_labels=False,\n",
    "figsize=(10,5))"
   ]
  },
  {
   "cell_type": "markdown",
   "metadata": {},
   "source": [
    "### Let's use a classical optimization algorithm"
   ]
  },
  {
   "cell_type": "markdown",
   "metadata": {},
   "source": [
    "First we define a function that shows the state with the highest count, i.e. minimizing the energy."
   ]
  },
  {
   "cell_type": "code",
   "execution_count": 129,
   "metadata": {},
   "outputs": [],
   "source": [
    "from typing import List\n",
    "def state_counts(parameter_values: List[float]):\n",
    "    \"\"\"parameter_values is expected to be of\n",
    "    the form [beta_0, beta_1, ..., gamma_0, gamma_1, ...]\"\"\"\n",
    "    parameter_bindings = dict(zip(qaoa_ansatz.parameters, parameter_values))\n",
    "    qaoa_with_parameters = qaoa_ansatz.bind_parameters(parameter_bindings)\n",
    "    qaoa_with_parameters_decomposed = qaoa_with_parameters.decompose(reps=3)\n",
    "    result = aer_simulator.run(qaoa_with_parameters_decomposed).result()\n",
    "    counts = result.get_counts()\n",
    "    return counts"
   ]
  },
  {
   "cell_type": "code",
   "execution_count": 130,
   "metadata": {},
   "outputs": [],
   "source": [
    "def max_count():\n",
    "    max_count = 0\n",
    "    sc = state_counts([*betas,*gammas])\n",
    "    for i in sc:\n",
    "        if sc[f\"{i}\"]>max_count:\n",
    "            max_count = sc[f\"{i}\"]\n",
    "            state_name = f\"{i}\"\n",
    "    print(state_name, max_count)\n",
    "    "
   ]
  },
  {
   "cell_type": "code",
   "execution_count": 131,
   "metadata": {},
   "outputs": [
    {
     "name": "stdout",
     "output_type": "stream",
     "text": [
      "[34.4]\n"
     ]
    }
   ],
   "source": [
    "from qiskit.quantum_info import SparsePauliOp\n",
    "from qiskit import QuantumCircuit\n",
    "from qiskit_aer.primitives import Estimator\n",
    " \n",
    "estimator = Estimator(approximation=True, run_options={\"shots\": None})\n",
    " \n",
    "op = ising\n",
    "states_op = QuantumCircuit(8)\n",
    "states_op.h(range(8))\n",
    " \n",
    "expectation_value = estimator.run(states_op, op).result().values + ising_offset\n",
    " \n",
    "print(expectation_value)"
   ]
  },
  {
   "cell_type": "code",
   "execution_count": 120,
   "metadata": {},
   "outputs": [
    {
     "name": "stdout",
     "output_type": "stream",
     "text": [
      "     ┌───┐\n",
      "q_0: ┤ H ├\n",
      "     ├───┤\n",
      "q_1: ┤ H ├\n",
      "     ├───┤\n",
      "q_2: ┤ H ├\n",
      "     ├───┤\n",
      "q_3: ┤ H ├\n",
      "     ├───┤\n",
      "q_4: ┤ H ├\n",
      "     ├───┤\n",
      "q_5: ┤ H ├\n",
      "     ├───┤\n",
      "q_6: ┤ H ├\n",
      "     ├───┤\n",
      "q_7: ┤ H ├\n",
      "     └───┘\n"
     ]
    }
   ],
   "source": [
    "print(states_op)"
   ]
  },
  {
   "cell_type": "code",
   "execution_count": 132,
   "metadata": {},
   "outputs": [],
   "source": [
    "def energy_evaluation(parameter_values: List[float]):\n",
    "    parameter_bindings = dict(zip(qaoa_ansatz.parameters, parameter_values))\n",
    "    qaoa_with_parameters = qaoa_ansatz.bind_parameters(parameter_bindings)\n",
    "    qaoa_with_parameters_decomposed = qaoa_with_parameters.decompose(reps=3)\n",
    "    estimator = Estimator(approximation=True, run_options={\"shots\": None})\n",
    "    expectation_value = estimator.run(qaoa_with_parameters_decomposed, ising).result().values + ising_offset\n",
    "    return expectation_value[0]"
   ]
  },
  {
   "cell_type": "code",
   "execution_count": 134,
   "metadata": {},
   "outputs": [
    {
     "data": {
      "text/plain": [
       "50.03013858443573"
      ]
     },
     "execution_count": 134,
     "metadata": {},
     "output_type": "execute_result"
    }
   ],
   "source": [
    "energy_evaluation([*betas, *gammas])"
   ]
  },
  {
   "cell_type": "code",
   "execution_count": 58,
   "metadata": {},
   "outputs": [],
   "source": [
    "random_generator = np.random.default_rng(1234)"
   ]
  },
  {
   "cell_type": "code",
   "execution_count": 136,
   "metadata": {},
   "outputs": [
    {
     "name": "stdout",
     "output_type": "stream",
     "text": [
      "Optimized parameters: [3.90440128 0.74693034 2.75685655 3.84911945]\n",
      "Expectation value: 25.293921195227288\n",
      "Number function evaluations: 787\n"
     ]
    }
   ],
   "source": [
    "from qiskit.algorithms.optimizers import COBYLA\n",
    "\n",
    "betas_initial_guess = np.pi*random_generator.random(qaoa_reps)\n",
    "gammas_initial_guess = 2*np.pi*random_generator.random(qaoa_reps)\n",
    "parameter_values_initial_guess = [*betas_initial_guess, *gammas_initial_guess]\n",
    "cobyla_optimizer = COBYLA()\n",
    "result_optimization = cobyla_optimizer.minimize(\n",
    "fun=energy_evaluation, x0=parameter_values_initial_guess)\n",
    "parameter_values_optimized = result_optimization.x\n",
    "energy_optimized = result_optimization.fun\n",
    "# Number of evalutions of energy_evaluation\n",
    "number_function_evaluations = result_optimization.nfev\n",
    "print(f\"Optimized parameters: {parameter_values_optimized}\")\n",
    "print(f\"Expectation value: {energy_optimized}\")\n",
    "print(f\"Number function evaluations: {number_function_evaluations}\")"
   ]
  },
  {
   "cell_type": "code",
   "execution_count": 137,
   "metadata": {},
   "outputs": [],
   "source": [
    "arameter_bindings = dict(\n",
    "zip(qaoa_ansatz.parameters, parameter_values_optimized))\n",
    "qaoa_with_parameters = qaoa_ansatz.bind_parameters(parameter_bindings)\n",
    "qaoa_with_parameters_decomposed = qaoa_with_parameters.decompose(reps=3)\n",
    "result = aer_simulator.run(qaoa_with_parameters_decomposed).result()\n",
    "counts = result.get_counts()"
   ]
  },
  {
   "cell_type": "code",
   "execution_count": 138,
   "metadata": {},
   "outputs": [
    {
     "data": {
      "image/png": "[encoded data removed]",
      "text/plain": [
       "<Figure size 1000x500 with 1 Axes>"
      ]
     },
     "execution_count": 138,
     "metadata": {},
     "output_type": "execute_result"
    }
   ],
   "source": [
    "# Plot the 40 bitstrings with the highest count.\n",
    "plot_histogram(\n",
    "counts,\n",
    "number_to_keep=40,\n",
    "sort=\"value_desc\",\n",
    "bar_labels=False,\n",
    "figsize=(10,5))"
   ]
  },
  {
   "cell_type": "code",
   "execution_count": null,
   "metadata": {},
   "outputs": [],
   "source": []
  }
 ],
 "metadata": {
  "kernelspec": {
   "display_name": "base",
   "language": "python",
   "name": "python3"
  },
  "language_info": {
   "codemirror_mode": {
    "name": "ipython",
    "version": 3
   },
   "file_extension": ".py",
   "mimetype": "text/x-python",
   "name": "python",
   "nbconvert_exporter": "python",
   "pygments_lexer": "ipython3",
   "version": "3.9.13"
  }
 },
 "nbformat": 4,
 "nbformat_minor": 2
}
