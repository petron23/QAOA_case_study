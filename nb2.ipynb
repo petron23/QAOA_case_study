{
 "cells": [
  {
   "cell_type": "code",
   "execution_count": 2,
   "metadata": {},
   "outputs": [],
   "source": [
    "from nb1_module import generate_example"
   ]
  },
  {
   "cell_type": "code",
   "execution_count": 3,
   "metadata": {},
   "outputs": [
    {
     "name": "stdout",
     "output_type": "stream",
     "text": [
      "Charging unit with\n",
      " charging levels: [0, 1, 2, 3]\n",
      " time slots: [0, 1, 2, 3]\n",
      " cars to charge: car_green\n",
      "Car car_green: \n",
      " at charging station at time slots [0, 1, 2] \n",
      "  requires 4 energy units\n"
     ]
    }
   ],
   "source": [
    "charging_unit, car_green, qcio, converter, qubo, number_binary_variables, qubo_minimization_result = generate_example(random_values=False)\n",
    "print(charging_unit)\n",
    "print(car_green)\n"
   ]
  },
  {
   "cell_type": "code",
   "execution_count": null,
   "metadata": {},
   "outputs": [],
   "source": []
  }
 ],
 "metadata": {
  "kernelspec": {
   "display_name": "base",
   "language": "python",
   "name": "python3"
  },
  "language_info": {
   "codemirror_mode": {
    "name": "ipython",
    "version": 3
   },
   "file_extension": ".py",
   "mimetype": "text/x-python",
   "name": "python",
   "nbconvert_exporter": "python",
   "pygments_lexer": "ipython3",
   "version": "3.9.13"
  }
 },
 "nbformat": 4,
 "nbformat_minor": 2
}
