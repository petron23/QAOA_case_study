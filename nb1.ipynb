{
 "cells": [
  {
   "cell_type": "markdown",
   "metadata": {},
   "source": [
    "We define classes for the problem."
   ]
  },
  {
   "cell_type": "code",
   "execution_count": 63,
   "metadata": {},
   "outputs": [],
   "source": [
    "from typing import List\n",
    "import numpy as np\n",
    "\n",
    "class Car:\n",
    "    def __init__(self,car_id: int, time_slots_at_charging_unit: List[int], required_energy: int)-> None :\n",
    "        self.car_id = car_id\n",
    "        self.time_slots_at_charging_unit = time_slots_at_charging_unit\n",
    "        self.required_energy = required_energy\n",
    "\n",
    "    def __str__(self) -> str:\n",
    "        return f\"Car {self.car_id}: \\n\" \\\n",
    "               f\" at charging station at time slots {self.time_slots_at_charging_unit} \\n \"\\\n",
    "               f\" requires {self.required_energy} energy units\"\n",
    "    \n",
    "\n",
    "class ChargingUnit:\n",
    "    def __init__(self, unit_name: str, num_charging_levels: int, num_time_slots: int) -> None:\n",
    "        self.unit_name = unit_name\n",
    "        self.num_charging_levels = num_charging_levels\n",
    "        self.num_time_slots = num_time_slots\n",
    "        \n",
    "        self.cars_to_charge = []\n",
    "\n",
    "    def __str__(self) -> str:\n",
    "        info_cars_registered = \"\"\n",
    "        for car in self.cars_to_charge:\n",
    "            info_cars_registered = info_cars_registered + \" \" + car.car_id\n",
    "        return \"Charging unit with\\n\" \\\n",
    "            \" charging levels: \" \\\n",
    "            f\"{list(range(self.num_charging_levels))[1:-1]}\\n\" \\\n",
    "            \" time slots: \" \\\n",
    "            f\"{list(range(self.num_time_slots))[1:-1]}\\n\" \\\n",
    "            \" cars to charge:\" \\\n",
    "            + info_cars_registered\n",
    "    \n",
    "    def register_car_for_charging(self, car: Car) -> None:\n",
    "        if max(car.time_slots_at_charging_unit) > self.num_time_slots - 1:\n",
    "            raise ValueError(\"From car required time slots not compatible \"\n",
    "            \" with charging unit.\")\n",
    "        self.cars_to_charge.append(car)\n",
    "\n",
    "    def reset_cars_for_charging(self)->None:\n",
    "        self.cars_to_charge = []\n",
    "\n",
    "    def generate_constraint_matrix(self) -> np.ndarray:\n",
    "        \"when a car is at a charging station the matrix element is 1 otherwise 0\"\n",
    "        number_cars_to_charge = len(self.cars_to_charge)\n",
    "        constraint_matrix = np.zeros((number_cars_to_charge, number_cars_to_charge*self.num_time_slots))\n",
    "        for row_index in range(0, len(self.cars_to_charge)):\n",
    "            offset = row_index*self.num_time_slots\n",
    "            cols = np.array(\n",
    "            self.cars_to_charge[row_index].time_slots_at_charging_unit) # here the cars_to_charge is a list with elements of cars, those have this attribute\n",
    "            constraint_matrix[row_index, offset+cols] = 1\n",
    "        return constraint_matrix\n",
    "    \n",
    "    def generate_constraint_rhs(self) -> np.ndarray:\n",
    "        \"\"\"Vector with required energy as entries\"\"\"\n",
    "        number_cars_to_charge = len(self.cars_to_charge)\n",
    "        constraint_rhs = np.zeros((number_cars_to_charge, 1))\n",
    "        for row_index in range(0, number_cars_to_charge):\n",
    "            constraint_rhs[row_index] = self.cars_to_charge[row_index].required_energy # here the cars_to_charge is a list with elements of cars, those have this attribute\n",
    "        return constraint_rhs\n",
    "    \n",
    "    def generate_cost_matrix(self) -> np.ndarray:\n",
    "        number_cars_to_charge = len(self.cars_to_charge)\n",
    "        return np.kron(\n",
    "        np.ones((number_cars_to_charge, 1)) \\\n",
    "        @ np.ones((1, number_cars_to_charge)),\n",
    "        np.eye(self.num_time_slots))"
   ]
  },
  {
   "cell_type": "markdown",
   "metadata": {},
   "source": [
    "Creating car instances as follows"
   ]
  },
  {
   "cell_type": "code",
   "execution_count": 64,
   "metadata": {},
   "outputs": [],
   "source": [
    "car_green = Car(car_id=\"car_green\", time_slots_at_charging_unit=[0,1,2,3], required_energy=8)\n",
    "car_red = Car(car_id=\"car_red\", time_slots_at_charging_unit=[0,1,2,3,4,5,6], required_energy=12)"
   ]
  },
  {
   "cell_type": "code",
   "execution_count": 65,
   "metadata": {},
   "outputs": [
    {
     "data": {
      "text/plain": [
       "8"
      ]
     },
     "execution_count": 65,
     "metadata": {},
     "output_type": "execute_result"
    }
   ],
   "source": [
    "car_green.required_energy"
   ]
  },
  {
   "cell_type": "code",
   "execution_count": 66,
   "metadata": {},
   "outputs": [
    {
     "name": "stdout",
     "output_type": "stream",
     "text": [
      "Car car_green: \n",
      " at charging station at time slots [0, 1, 2, 3] \n",
      "  requires 8 energy units \n",
      " Car car_red: \n",
      " at charging station at time slots [0, 1, 2, 3, 4, 5, 6] \n",
      "  requires 12 energy units\n"
     ]
    }
   ],
   "source": [
    "print(car_green,'\\n',car_red)"
   ]
  },
  {
   "cell_type": "markdown",
   "metadata": {},
   "source": [
    "Testing the ChargingUnit class"
   ]
  },
  {
   "cell_type": "code",
   "execution_count": 67,
   "metadata": {},
   "outputs": [
    {
     "name": "stdout",
     "output_type": "stream",
     "text": [
      "Charging unit with\n",
      " charging levels: [1, 2, 3, 4]\n",
      " time slots: [1, 2, 3, 4, 5]\n",
      " cars to charge:\n"
     ]
    }
   ],
   "source": [
    "charging_unit = ChargingUnit(unit_name=\"charging_unit\", num_charging_levels=6, num_time_slots=7)\n",
    "print(charging_unit)"
   ]
  },
  {
   "cell_type": "markdown",
   "metadata": {},
   "source": [
    "Now let's combine the two: register cars for charging"
   ]
  },
  {
   "cell_type": "code",
   "execution_count": 68,
   "metadata": {},
   "outputs": [
    {
     "name": "stdout",
     "output_type": "stream",
     "text": [
      "Charging unit with\n",
      " charging levels: [1, 2, 3, 4]\n",
      " time slots: [1, 2, 3, 4, 5]\n",
      " cars to charge: car_green car_red\n"
     ]
    }
   ],
   "source": [
    "charging_unit.register_car_for_charging(car_green)\n",
    "charging_unit.register_car_for_charging(car_red)\n",
    "\n",
    "print(charging_unit)"
   ]
  },
  {
   "cell_type": "code",
   "execution_count": 69,
   "metadata": {},
   "outputs": [
    {
     "name": "stdout",
     "output_type": "stream",
     "text": [
      "[[1. 0. 0. 0. 0. 0. 0. 1. 0. 0. 0. 0. 0. 0.]\n",
      " [0. 1. 0. 0. 0. 0. 0. 0. 1. 0. 0. 0. 0. 0.]\n",
      " [0. 0. 1. 0. 0. 0. 0. 0. 0. 1. 0. 0. 0. 0.]\n",
      " [0. 0. 0. 1. 0. 0. 0. 0. 0. 0. 1. 0. 0. 0.]\n",
      " [0. 0. 0. 0. 1. 0. 0. 0. 0. 0. 0. 1. 0. 0.]\n",
      " [0. 0. 0. 0. 0. 1. 0. 0. 0. 0. 0. 0. 1. 0.]\n",
      " [0. 0. 0. 0. 0. 0. 1. 0. 0. 0. 0. 0. 0. 1.]\n",
      " [1. 0. 0. 0. 0. 0. 0. 1. 0. 0. 0. 0. 0. 0.]\n",
      " [0. 1. 0. 0. 0. 0. 0. 0. 1. 0. 0. 0. 0. 0.]\n",
      " [0. 0. 1. 0. 0. 0. 0. 0. 0. 1. 0. 0. 0. 0.]\n",
      " [0. 0. 0. 1. 0. 0. 0. 0. 0. 0. 1. 0. 0. 0.]\n",
      " [0. 0. 0. 0. 1. 0. 0. 0. 0. 0. 0. 1. 0. 0.]\n",
      " [0. 0. 0. 0. 0. 1. 0. 0. 0. 0. 0. 0. 1. 0.]\n",
      " [0. 0. 0. 0. 0. 0. 1. 0. 0. 0. 0. 0. 0. 1.]]\n"
     ]
    },
    {
     "data": {
      "text/plain": [
       "(14, 14)"
      ]
     },
     "execution_count": 69,
     "metadata": {},
     "output_type": "execute_result"
    }
   ],
   "source": [
    "cost_matrix = charging_unit.generate_cost_matrix()\n",
    "print(cost_matrix)\n",
    "cost_matrix.shape"
   ]
  },
  {
   "cell_type": "code",
   "execution_count": 72,
   "metadata": {},
   "outputs": [
    {
     "name": "stdout",
     "output_type": "stream",
     "text": [
      "cosntraint mx:  [[1. 1. 1. 1. 0. 0. 0. 0. 0. 0. 0. 0. 0. 0.]\n",
      " [0. 0. 0. 0. 0. 0. 0. 1. 1. 1. 1. 1. 1. 1.]]\n",
      "e: [[ 8.]\n",
      " [12.]]\n"
     ]
    }
   ],
   "source": [
    "constraint_matrix = charging_unit.generate_constraint_matrix()\n",
    "e = charging_unit.generate_constraint_rhs()\n",
    "print(\"cosntraint mx: \", constraint_matrix)\n",
    "print(\"e:\",e)\n"
   ]
  },
  {
   "cell_type": "markdown",
   "metadata": {},
   "source": [
    "In the following we will use Qiskit for describing the quadratic constrained integer optimization (QCIO)."
   ]
  },
  {
   "cell_type": "code",
   "execution_count": 79,
   "metadata": {},
   "outputs": [],
   "source": [
    "from qiskit_optimization import QuadraticProgram\n",
    "\n",
    "\n",
    "def generate_qcio(charging_unit: ChargingUnit, name: str=None) -> QuadraticProgram:\n",
    "    if name is None:\n",
    "        name = \"\"\n",
    "    qcio = QuadraticProgram(name)\n",
    "    for car in charging_unit.cars_to_charge:\n",
    "        qcio.integer_var_list(\n",
    "            keys=[f\"{car.car_id}_t{t}\" for t in range(0, charging_unit.num_time_slots)],\n",
    "            lowerbound=0,\n",
    "            upperbound=charging_unit.num_charging_levels-1,\n",
    "            name=\"p_\")\n",
    "    \n",
    "    constraint_matrix = charging_unit.generate_constraint_matrix()\n",
    "    constraint_rhs = charging_unit.generate_constraint_rhs()\n",
    "\n",
    "    for row_index in range(0, constraint_matrix.shape[0]):\n",
    "        qcio.linear_constraint(\n",
    "                linear=constraint_matrix[row_index, :],\n",
    "                rhs=constraint_rhs[row_index][0],\n",
    "                sense=\"==\",\n",
    "                name=f\"charge_correct_energy_for_{charging_unit.cars_to_charge[row_index].car_id}\")\n",
    "    cost_matrix = charging_unit.generate_cost_matrix()\n",
    "    qcio.minimize(quadratic=cost_matrix)\n",
    "    return qcio"
   ]
  },
  {
   "cell_type": "markdown",
   "metadata": {},
   "source": [
    "Creating  a QCIO class with our previously defined problem using the charging_unit with the green and red cars."
   ]
  },
  {
   "cell_type": "code",
   "execution_count": 80,
   "metadata": {},
   "outputs": [
    {
     "name": "stdout",
     "output_type": "stream",
     "text": [
      "Problem name: QCIO\n",
      "\n",
      "Minimize\n",
      "  p_car_green_t0^2 + 2*p_car_green_t0*p_car_red_t0 + p_car_green_t1^2\n",
      "  + 2*p_car_green_t1*p_car_red_t1 + p_car_green_t2^2\n",
      "  + 2*p_car_green_t2*p_car_red_t2 + p_car_green_t3^2\n",
      "  + 2*p_car_green_t3*p_car_red_t3 + p_car_green_t4^2\n",
      "  + 2*p_car_green_t4*p_car_red_t4 + p_car_green_t5^2\n",
      "  + 2*p_car_green_t5*p_car_red_t5 + p_car_green_t6^2\n",
      "  + 2*p_car_green_t6*p_car_red_t6 + p_car_red_t0^2 + p_car_red_t1^2\n",
      "  + p_car_red_t2^2 + p_car_red_t3^2 + p_car_red_t4^2 + p_car_red_t5^2\n",
      "  + p_car_red_t6^2\n",
      "\n",
      "Subject to\n",
      "  Linear constraints (2)\n",
      "    p_car_green_t0 + p_car_green_t1 + p_car_green_t2 + p_car_green_t3\n",
      "    == 8  'charge_correct_energy_for_car_green'\n",
      "    p_car_red_t0 + p_car_red_t1 + p_car_red_t2 + p_car_red_t3 + p_car_red_t4\n",
      "    + p_car_red_t5 + p_car_red_t6 == 12  'charge_correct_energy_for_car_red'\n",
      "\n",
      "  Integer variables (14)\n",
      "    0 <= p_car_green_t0 <= 5\n",
      "    0 <= p_car_green_t1 <= 5\n",
      "    0 <= p_car_green_t2 <= 5\n",
      "    0 <= p_car_green_t3 <= 5\n",
      "    0 <= p_car_green_t4 <= 5\n",
      "    0 <= p_car_green_t5 <= 5\n",
      "    0 <= p_car_green_t6 <= 5\n",
      "    0 <= p_car_red_t0 <= 5\n",
      "    0 <= p_car_red_t1 <= 5\n",
      "    0 <= p_car_red_t2 <= 5\n",
      "    0 <= p_car_red_t3 <= 5\n",
      "    0 <= p_car_red_t4 <= 5\n",
      "    0 <= p_car_red_t5 <= 5\n",
      "    0 <= p_car_red_t6 <= 5\n",
      "\n"
     ]
    }
   ],
   "source": [
    "qcio = generate_qcio(charging_unit, name=\"QCIO\")\n",
    "print(qcio.prettyprint())"
   ]
  },
  {
   "cell_type": "code",
   "execution_count": null,
   "metadata": {},
   "outputs": [],
   "source": []
  }
 ],
 "metadata": {
  "kernelspec": {
   "display_name": "base",
   "language": "python",
   "name": "python3"
  },
  "language_info": {
   "codemirror_mode": {
    "name": "ipython",
    "version": 3
   },
   "file_extension": ".py",
   "mimetype": "text/x-python",
   "name": "python",
   "nbconvert_exporter": "python",
   "pygments_lexer": "ipython3",
   "version": "3.9.13"
  }
 },
 "nbformat": 4,
 "nbformat_minor": 2
}
