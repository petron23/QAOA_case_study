{
 "cells": [
  {
   "cell_type": "markdown",
   "metadata": {},
   "source": [
    "We define classes for the problem."
   ]
  },
  {
   "cell_type": "code",
   "execution_count": 1,
   "metadata": {},
   "outputs": [],
   "source": [
    "from typing import List\n",
    "import numpy as np\n",
    "\n",
    "class Car:\n",
    "    def __init__(self,car_id: int, time_slots_at_charging_unit: List[int], required_energy: int)-> None :\n",
    "        self.car_id = car_id\n",
    "        self.time_slots_at_charging_unit = time_slots_at_charging_unit\n",
    "        self.required_energy = required_energy\n",
    "\n",
    "    def __str__(self) -> str:\n",
    "        return f\"Car {self.car_id}: \\n\" \\\n",
    "               f\" at charging station at time slots {self.time_slots_at_charging_unit} \\n \"\\\n",
    "               f\" requires {self.required_energy} energy units\"\n",
    "    \n",
    "\n",
    "class ChargingUnit:\n",
    "    def __init__(self, unit_name: str, num_charging_levels: int, num_time_slots: int) -> None:\n",
    "        self.unit_name = unit_name\n",
    "        self.num_charging_levels = num_charging_levels\n",
    "        self.num_time_slots = num_time_slots\n",
    "        \n",
    "        self.cars_to_charge = []\n",
    "\n",
    "    def __str__(self) -> str:\n",
    "        info_cars_registered = \"\"\n",
    "        for car in self.cars_to_charge:\n",
    "            info_cars_registered = info_cars_registered + \" \" + car.car_id\n",
    "        return \"Charging unit with\\n\" \\\n",
    "            \" charging levels: \" \\\n",
    "            f\"{list(range(self.num_charging_levels))[1:-1]}\\n\" \\\n",
    "            \" time slots: \" \\\n",
    "            f\"{list(range(self.num_time_slots))[1:-1]}\\n\" \\\n",
    "            \" cars to charge:\" \\\n",
    "            + info_cars_registered\n",
    "    \n",
    "    def register_car_for_charging(self, car: Car) -> None:\n",
    "        if max(car.time_slots_at_charging_unit) > self.num_time_slots - 1:\n",
    "            raise ValueError(\"From car required time slots not compatible \"\n",
    "            \" with charging unit.\")\n",
    "        self.cars_to_charge.append(car)\n",
    "\n",
    "    def reset_cars_for_charging(self)->None:\n",
    "        self.cars_to_charge = []\n",
    "\n",
    "    def generate_constraint_matrix(self) -> np.ndarray:\n",
    "        \"when a car is at a charging station the matrix element is 1 otherwise 0\"\n",
    "        constraint_matrix = np.zeros(self.cars_to_charge, len(self.cars_to_charge)*self.num_time_slots)\n",
    "        for row_index in range(0, len(self.cars_to_charge)):\n",
    "            offset = row_index*self.num_time_slots\n",
    "            cols = np.array(\n",
    "            self.cars_to_charge[row_index].time_slots_at_charging_unit) # here the cars_to_charge is a list with elements of cars, those have this attribute\n",
    "            constraint_matrix[row_index, offset+cols] = 1\n",
    "        return constraint_matrix\n",
    "    \n",
    "    def generate_constraint_rhs(self) -> np.ndarray:\n",
    "        \"\"\"Vector with required energy as entries\"\"\"\n",
    "        number_cars_to_charge = len(self.cars_to_charge)\n",
    "        constraint_rhs = np.zeros((number_cars_to_charge, 1))\n",
    "        for row_index in range(0, number_cars_to_charge):\n",
    "            constraint_rhs[row_index] = self.cars_to_charge[row_index].required_energy # here the cars_to_charge is a list with elements of cars, those have this attribute\n",
    "        return constraint_rhs\n",
    "    \n",
    "    def generate_cost_matrix(self) -> np.ndarray:\n",
    "        number_cars_to_charge = len(self.cars_to_charge)\n",
    "        return np.kron(\n",
    "        np.ones((number_cars_to_charge, 1)) \\\n",
    "        @ np.ones((1, number_cars_to_charge)),\n",
    "        np.eye(self.number_time_slots))"
   ]
  },
  {
   "cell_type": "markdown",
   "metadata": {},
   "source": [
    "Creating car instances as follows"
   ]
  },
  {
   "cell_type": "code",
   "execution_count": 2,
   "metadata": {},
   "outputs": [],
   "source": [
    "car_green = Car(car_id=\"car_green\", time_slots_at_charging_unit=[0,1,2,3], required_energy=8)\n",
    "car_red = Car(car_id=\"car_red\", time_slots_at_charging_unit=[0,1,2,3,4,5,6], required_energy=12)"
   ]
  },
  {
   "cell_type": "code",
   "execution_count": 7,
   "metadata": {},
   "outputs": [
    {
     "data": {
      "text/plain": [
       "8"
      ]
     },
     "execution_count": 7,
     "metadata": {},
     "output_type": "execute_result"
    }
   ],
   "source": [
    "car_green.required_energy"
   ]
  },
  {
   "cell_type": "code",
   "execution_count": 15,
   "metadata": {},
   "outputs": [
    {
     "name": "stdout",
     "output_type": "stream",
     "text": [
      "Car car_green: \n",
      " at charging station at time slots [0, 1, 2, 3] \n",
      "  requires 8 energy units \n",
      " Car car_red: \n",
      " at charging station at time slots [0, 1, 2, 3, 4, 5, 6] \n",
      "  requires 12 energy units\n"
     ]
    }
   ],
   "source": [
    "print(car_green,'\\n',car_red)"
   ]
  },
  {
   "cell_type": "markdown",
   "metadata": {},
   "source": [
    "Testing the charging unit class"
   ]
  },
  {
   "cell_type": "markdown",
   "metadata": {},
   "source": []
  }
 ],
 "metadata": {
  "kernelspec": {
   "display_name": "base",
   "language": "python",
   "name": "python3"
  },
  "language_info": {
   "codemirror_mode": {
    "name": "ipython",
    "version": 3
   },
   "file_extension": ".py",
   "mimetype": "text/x-python",
   "name": "python",
   "nbconvert_exporter": "python",
   "pygments_lexer": "ipython3",
   "version": "3.9.13"
  }
 },
 "nbformat": 4,
 "nbformat_minor": 2
}
