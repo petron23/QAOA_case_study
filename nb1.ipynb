{
 "cells": [
  {
   "cell_type": "markdown",
   "metadata": {},
   "source": [
    "We define classes for the problem."
   ]
  },
  {
   "cell_type": "code",
   "execution_count": 1,
   "metadata": {},
   "outputs": [],
   "source": [
    "from typing import List\n",
    "import numpy as np\n",
    "\n",
    "class Car:\n",
    "    def __init__(self,car_id: int, time_slots_at_charging_unit: List[int], required_energy: int)-> None :\n",
    "        self.car_id = car_id\n",
    "        self.time_slots_at_charging_unit = time_slots_at_charging_unit\n",
    "        self.required_energy = required_energy\n",
    "\n",
    "    def __str__(self) -> str:\n",
    "        return f\"Car {self.car_id}: \\n\" \\\n",
    "               f\" at charging station at time slots {self.time_slots_at_charging_unit} \\n \"\\\n",
    "               f\" requires {self.required_energy} energy units\"\n",
    "    \n",
    "\n",
    "class ChargingUnit:\n",
    "    def __init__(self, unit_name: str, num_charging_levels: int, num_time_slots: int) -> None:\n",
    "        self.unit_name = unit_name\n",
    "        self.num_charging_levels = num_charging_levels\n",
    "        self.num_time_slots = num_time_slots\n",
    "        \n",
    "        self.cars_to_charge = []\n",
    "\n",
    "    def __str__(self) -> str:\n",
    "        info_cars_registered = \"\"\n",
    "        for car in self.cars_to_charge:\n",
    "            info_cars_registered = info_cars_registered + \" \" + car.car_id\n",
    "        return \"Charging unit with\\n\" \\\n",
    "            \" charging levels: \" \\\n",
    "            f\"{list(range(self.num_charging_levels))[1:-1]}\\n\" \\\n",
    "            \" time slots: \" \\\n",
    "            f\"{list(range(self.num_time_slots))[1:-1]}\\n\" \\\n",
    "            \" cars to charge:\" \\\n",
    "            + info_cars_registered\n",
    "    \n",
    "    def register_car_for_charging(self, car: Car) -> None:\n",
    "        if max(car.time_slots_at_charging_unit) > self.num_time_slots - 1:\n",
    "            raise ValueError(\"From car required time slots not compatible \"\n",
    "            \" with charging unit.\")\n",
    "        self.cars_to_charge.append(car)\n",
    "\n",
    "    def reset_cars_for_charging(self)->None:\n",
    "        self.cars_to_charge = []\n",
    "\n",
    "    def generate_constraint_matrix(self) -> np.ndarray:\n",
    "        \"when a car is at a charging station the matrix element is 1 otherwise 0\"\n",
    "        number_cars_to_charge = len(self.cars_to_charge)\n",
    "        constraint_matrix = np.zeros((number_cars_to_charge, number_cars_to_charge*self.num_time_slots))\n",
    "        for row_index in range(0, len(self.cars_to_charge)):\n",
    "            offset = row_index*self.num_time_slots\n",
    "            cols = np.array(\n",
    "            self.cars_to_charge[row_index].time_slots_at_charging_unit) # here the cars_to_charge is a list with elements of cars, those have this attribute\n",
    "            constraint_matrix[row_index, offset+cols] = 1\n",
    "        return constraint_matrix\n",
    "    \n",
    "    def generate_constraint_rhs(self) -> np.ndarray:\n",
    "        \"\"\"Vector with required energy as entries\"\"\"\n",
    "        number_cars_to_charge = len(self.cars_to_charge)\n",
    "        constraint_rhs = np.zeros((number_cars_to_charge, 1))\n",
    "        for row_index in range(0, number_cars_to_charge):\n",
    "            constraint_rhs[row_index] = self.cars_to_charge[row_index].required_energy # here the cars_to_charge is a list with elements of cars, those have this attribute\n",
    "        return constraint_rhs\n",
    "    \n",
    "    def generate_cost_matrix(self) -> np.ndarray:\n",
    "        number_cars_to_charge = len(self.cars_to_charge)\n",
    "        return np.kron(\n",
    "        np.ones((number_cars_to_charge, 1)) \\\n",
    "        @ np.ones((1, number_cars_to_charge)),\n",
    "        np.eye(self.num_time_slots))"
   ]
  },
  {
   "cell_type": "markdown",
   "metadata": {},
   "source": [
    "Creating car instances as follows"
   ]
  },
  {
   "cell_type": "code",
   "execution_count": 2,
   "metadata": {},
   "outputs": [],
   "source": [
    "car_green = Car(car_id=\"car_green\", time_slots_at_charging_unit=[0,1,2,3], required_energy=8)\n",
    "car_red = Car(car_id=\"car_red\", time_slots_at_charging_unit=[0,1,2,3,4,5,6], required_energy=12)"
   ]
  },
  {
   "cell_type": "code",
   "execution_count": 3,
   "metadata": {},
   "outputs": [
    {
     "data": {
      "text/plain": [
       "8"
      ]
     },
     "execution_count": 3,
     "metadata": {},
     "output_type": "execute_result"
    }
   ],
   "source": [
    "car_green.required_energy"
   ]
  },
  {
   "cell_type": "code",
   "execution_count": 4,
   "metadata": {},
   "outputs": [
    {
     "name": "stdout",
     "output_type": "stream",
     "text": [
      "Car car_green: \n",
      " at charging station at time slots [0, 1, 2, 3] \n",
      "  requires 8 energy units \n",
      " Car car_red: \n",
      " at charging station at time slots [0, 1, 2, 3, 4, 5, 6] \n",
      "  requires 12 energy units\n"
     ]
    }
   ],
   "source": [
    "print(car_green,'\\n',car_red)"
   ]
  },
  {
   "cell_type": "markdown",
   "metadata": {},
   "source": [
    "Testing the ChargingUnit class"
   ]
  },
  {
   "cell_type": "code",
   "execution_count": 5,
   "metadata": {},
   "outputs": [
    {
     "name": "stdout",
     "output_type": "stream",
     "text": [
      "Charging unit with\n",
      " charging levels: [1, 2, 3, 4]\n",
      " time slots: [1, 2, 3, 4, 5]\n",
      " cars to charge:\n"
     ]
    }
   ],
   "source": [
    "charging_unit = ChargingUnit(unit_name=\"charging_unit\", num_charging_levels=6, num_time_slots=7)\n",
    "print(charging_unit)"
   ]
  },
  {
   "cell_type": "markdown",
   "metadata": {},
   "source": [
    "Now let's combine the two: register cars for charging"
   ]
  },
  {
   "cell_type": "code",
   "execution_count": 6,
   "metadata": {},
   "outputs": [
    {
     "name": "stdout",
     "output_type": "stream",
     "text": [
      "Charging unit with\n",
      " charging levels: [1, 2, 3, 4]\n",
      " time slots: [1, 2, 3, 4, 5]\n",
      " cars to charge: car_green car_red\n"
     ]
    }
   ],
   "source": [
    "charging_unit.register_car_for_charging(car_green)\n",
    "charging_unit.register_car_for_charging(car_red)\n",
    "\n",
    "print(charging_unit)"
   ]
  },
  {
   "cell_type": "code",
   "execution_count": 7,
   "metadata": {},
   "outputs": [
    {
     "name": "stdout",
     "output_type": "stream",
     "text": [
      "[[1. 0. 0. 0. 0. 0. 0. 1. 0. 0. 0. 0. 0. 0.]\n",
      " [0. 1. 0. 0. 0. 0. 0. 0. 1. 0. 0. 0. 0. 0.]\n",
      " [0. 0. 1. 0. 0. 0. 0. 0. 0. 1. 0. 0. 0. 0.]\n",
      " [0. 0. 0. 1. 0. 0. 0. 0. 0. 0. 1. 0. 0. 0.]\n",
      " [0. 0. 0. 0. 1. 0. 0. 0. 0. 0. 0. 1. 0. 0.]\n",
      " [0. 0. 0. 0. 0. 1. 0. 0. 0. 0. 0. 0. 1. 0.]\n",
      " [0. 0. 0. 0. 0. 0. 1. 0. 0. 0. 0. 0. 0. 1.]\n",
      " [1. 0. 0. 0. 0. 0. 0. 1. 0. 0. 0. 0. 0. 0.]\n",
      " [0. 1. 0. 0. 0. 0. 0. 0. 1. 0. 0. 0. 0. 0.]\n",
      " [0. 0. 1. 0. 0. 0. 0. 0. 0. 1. 0. 0. 0. 0.]\n",
      " [0. 0. 0. 1. 0. 0. 0. 0. 0. 0. 1. 0. 0. 0.]\n",
      " [0. 0. 0. 0. 1. 0. 0. 0. 0. 0. 0. 1. 0. 0.]\n",
      " [0. 0. 0. 0. 0. 1. 0. 0. 0. 0. 0. 0. 1. 0.]\n",
      " [0. 0. 0. 0. 0. 0. 1. 0. 0. 0. 0. 0. 0. 1.]]\n"
     ]
    },
    {
     "data": {
      "text/plain": [
       "(14, 14)"
      ]
     },
     "execution_count": 7,
     "metadata": {},
     "output_type": "execute_result"
    }
   ],
   "source": [
    "cost_matrix = charging_unit.generate_cost_matrix()\n",
    "print(cost_matrix)\n",
    "cost_matrix.shape"
   ]
  },
  {
   "cell_type": "code",
   "execution_count": 8,
   "metadata": {},
   "outputs": [
    {
     "name": "stdout",
     "output_type": "stream",
     "text": [
      "cosntraint mx:  [[1. 1. 1. 1. 0. 0. 0. 0. 0. 0. 0. 0. 0. 0.]\n",
      " [0. 0. 0. 0. 0. 0. 0. 1. 1. 1. 1. 1. 1. 1.]]\n",
      "e: [[ 8.]\n",
      " [12.]]\n"
     ]
    }
   ],
   "source": [
    "constraint_matrix = charging_unit.generate_constraint_matrix()\n",
    "e = charging_unit.generate_constraint_rhs()\n",
    "print(\"cosntraint mx: \", constraint_matrix)\n",
    "print(\"e:\",e)\n"
   ]
  },
  {
   "cell_type": "markdown",
   "metadata": {},
   "source": [
    "In the following we will use Qiskit for describing the quadratic constrained integer optimization (QCIO)."
   ]
  },
  {
   "cell_type": "code",
   "execution_count": 9,
   "metadata": {},
   "outputs": [],
   "source": [
    "from qiskit_optimization import QuadraticProgram\n",
    "\n",
    "\n",
    "def generate_qcio(charging_unit: ChargingUnit, name: str=None) -> QuadraticProgram:\n",
    "    if name is None:\n",
    "        name = \"\"\n",
    "    qcio = QuadraticProgram(name)\n",
    "    for car in charging_unit.cars_to_charge:\n",
    "        qcio.integer_var_list(\n",
    "            keys=[f\"{car.car_id}_t{t}\" for t in range(0, charging_unit.num_time_slots)],\n",
    "            lowerbound=0,\n",
    "            upperbound=charging_unit.num_charging_levels-1,\n",
    "            name=\"p_\")\n",
    "    \n",
    "    constraint_matrix = charging_unit.generate_constraint_matrix()\n",
    "    constraint_rhs = charging_unit.generate_constraint_rhs()\n",
    "\n",
    "    for row_index in range(0, constraint_matrix.shape[0]):\n",
    "        qcio.linear_constraint(\n",
    "                linear=constraint_matrix[row_index, :],\n",
    "                rhs=constraint_rhs[row_index][0],\n",
    "                sense=\"==\",\n",
    "                name=f\"charge_correct_energy_for_{charging_unit.cars_to_charge[row_index].car_id}\")\n",
    "    cost_matrix = charging_unit.generate_cost_matrix()\n",
    "    qcio.minimize(quadratic=cost_matrix)\n",
    "    return qcio"
   ]
  },
  {
   "cell_type": "markdown",
   "metadata": {},
   "source": [
    "Creating  a QCIO class with our previously defined problem using the charging_unit with the green and red cars."
   ]
  },
  {
   "cell_type": "code",
   "execution_count": 10,
   "metadata": {},
   "outputs": [
    {
     "name": "stdout",
     "output_type": "stream",
     "text": [
      "Problem name: QCIO\n",
      "\n",
      "Minimize\n",
      "  p_car_green_t0^2 + 2*p_car_green_t0*p_car_red_t0 + p_car_green_t1^2\n",
      "  + 2*p_car_green_t1*p_car_red_t1 + p_car_green_t2^2\n",
      "  + 2*p_car_green_t2*p_car_red_t2 + p_car_green_t3^2\n",
      "  + 2*p_car_green_t3*p_car_red_t3 + p_car_green_t4^2\n",
      "  + 2*p_car_green_t4*p_car_red_t4 + p_car_green_t5^2\n",
      "  + 2*p_car_green_t5*p_car_red_t5 + p_car_green_t6^2\n",
      "  + 2*p_car_green_t6*p_car_red_t6 + p_car_red_t0^2 + p_car_red_t1^2\n",
      "  + p_car_red_t2^2 + p_car_red_t3^2 + p_car_red_t4^2 + p_car_red_t5^2\n",
      "  + p_car_red_t6^2\n",
      "\n",
      "Subject to\n",
      "  Linear constraints (2)\n",
      "    p_car_green_t0 + p_car_green_t1 + p_car_green_t2 + p_car_green_t3\n",
      "    == 8  'charge_correct_energy_for_car_green'\n",
      "    p_car_red_t0 + p_car_red_t1 + p_car_red_t2 + p_car_red_t3 + p_car_red_t4\n",
      "    + p_car_red_t5 + p_car_red_t6 == 12  'charge_correct_energy_for_car_red'\n",
      "\n",
      "  Integer variables (14)\n",
      "    0 <= p_car_green_t0 <= 5\n",
      "    0 <= p_car_green_t1 <= 5\n",
      "    0 <= p_car_green_t2 <= 5\n",
      "    0 <= p_car_green_t3 <= 5\n",
      "    0 <= p_car_green_t4 <= 5\n",
      "    0 <= p_car_green_t5 <= 5\n",
      "    0 <= p_car_green_t6 <= 5\n",
      "    0 <= p_car_red_t0 <= 5\n",
      "    0 <= p_car_red_t1 <= 5\n",
      "    0 <= p_car_red_t2 <= 5\n",
      "    0 <= p_car_red_t3 <= 5\n",
      "    0 <= p_car_red_t4 <= 5\n",
      "    0 <= p_car_red_t5 <= 5\n",
      "    0 <= p_car_red_t6 <= 5\n",
      "\n"
     ]
    }
   ],
   "source": [
    "qcio = generate_qcio(charging_unit, name=\"QCIO\")\n",
    "print(qcio.prettyprint())"
   ]
  },
  {
   "cell_type": "markdown",
   "metadata": {},
   "source": [
    "Solving the QCIO problem with a classicar optimizer from Scikit."
   ]
  },
  {
   "cell_type": "code",
   "execution_count": 11,
   "metadata": {},
   "outputs": [
    {
     "name": "stdout",
     "output_type": "stream",
     "text": [
      "minimum point: p_min =  [0. 3. 2. 3. 0. 0. 0. 2. 0. 1. 0. 3. 3. 3.]\n",
      "minimum value: f_1(p_min) =  58.0\n"
     ]
    }
   ],
   "source": [
    "from qiskit_optimization.algorithms import CplexOptimizer\n",
    "cplex_optimizer = CplexOptimizer()\n",
    "qcio_minimization_result = cplex_optimizer.solve(qcio)\n",
    "print(\"minimum point: p_min = \", qcio_minimization_result.x)\n",
    "print(\"minimum value: f_1(p_min) = \", qcio_minimization_result.fval)"
   ]
  },
  {
   "cell_type": "code",
   "execution_count": 12,
   "metadata": {},
   "outputs": [
    {
     "data": {
      "text/plain": [
       "14"
      ]
     },
     "execution_count": 12,
     "metadata": {},
     "output_type": "execute_result"
    }
   ],
   "source": [
    "len(qcio_minimization_result.x)"
   ]
  },
  {
   "cell_type": "markdown",
   "metadata": {},
   "source": [
    "This represents 2 vectors for car_green and car car_red and tells which car how much should charge at a given time slot out of 7."
   ]
  },
  {
   "cell_type": "code",
   "execution_count": 13,
   "metadata": {},
   "outputs": [
    {
     "name": "stdout",
     "output_type": "stream",
     "text": [
      "0.0\n",
      "0.0\n"
     ]
    }
   ],
   "source": [
    "print(sum(qcio_minimization_result.x[:7]) - car_green.required_energy)\n",
    "print(sum(qcio_minimization_result.x[7:]) - car_red.required_energy)\n"
   ]
  },
  {
   "cell_type": "code",
   "execution_count": 14,
   "metadata": {},
   "outputs": [
    {
     "data": {
      "application/vnd.plotly.v1+json": {
       "config": {
        "plotlyServerURL": "https://plot.ly"
       },
       "data": [
        {
         "marker": {
          "color": "green",
          "size": 20,
          "symbol": "square"
         },
         "mode": "markers",
         "name": "car_green",
         "showlegend": true,
         "type": "scatter",
         "x": [],
         "y": []
        },
        {
         "marker": {
          "color": "red",
          "size": 20,
          "symbol": "square"
         },
         "mode": "markers",
         "name": "car_red",
         "showlegend": true,
         "type": "scatter",
         "x": [
          0.5,
          0.5
         ],
         "y": [
          0,
          1
         ]
        },
        {
         "marker": {
          "color": "green",
          "size": 20,
          "symbol": "square"
         },
         "mode": "markers",
         "name": "car_green",
         "showlegend": true,
         "type": "scatter",
         "x": [
          1.5,
          1.5,
          1.5
         ],
         "y": [
          0,
          1,
          2
         ]
        },
        {
         "marker": {
          "color": "red",
          "size": 20,
          "symbol": "square"
         },
         "mode": "markers",
         "name": "car_red",
         "showlegend": false,
         "type": "scatter",
         "x": [],
         "y": []
        },
        {
         "marker": {
          "color": "green",
          "size": 20,
          "symbol": "square"
         },
         "mode": "markers",
         "name": "car_green",
         "showlegend": false,
         "type": "scatter",
         "x": [
          2.5,
          2.5
         ],
         "y": [
          0,
          1
         ]
        },
        {
         "marker": {
          "color": "red",
          "size": 20,
          "symbol": "square"
         },
         "mode": "markers",
         "name": "car_red",
         "showlegend": false,
         "type": "scatter",
         "x": [
          2.5
         ],
         "y": [
          2
         ]
        },
        {
         "marker": {
          "color": "green",
          "size": 20,
          "symbol": "square"
         },
         "mode": "markers",
         "name": "car_green",
         "showlegend": false,
         "type": "scatter",
         "x": [
          3.5,
          3.5,
          3.5
         ],
         "y": [
          0,
          1,
          2
         ]
        },
        {
         "marker": {
          "color": "red",
          "size": 20,
          "symbol": "square"
         },
         "mode": "markers",
         "name": "car_red",
         "showlegend": false,
         "type": "scatter",
         "x": [],
         "y": []
        },
        {
         "marker": {
          "color": "green",
          "size": 20,
          "symbol": "square"
         },
         "mode": "markers",
         "name": "car_green",
         "showlegend": false,
         "type": "scatter",
         "x": [],
         "y": []
        },
        {
         "marker": {
          "color": "red",
          "size": 20,
          "symbol": "square"
         },
         "mode": "markers",
         "name": "car_red",
         "showlegend": false,
         "type": "scatter",
         "x": [
          4.5,
          4.5,
          4.5
         ],
         "y": [
          0,
          1,
          2
         ]
        },
        {
         "marker": {
          "color": "green",
          "size": 20,
          "symbol": "square"
         },
         "mode": "markers",
         "name": "car_green",
         "showlegend": false,
         "type": "scatter",
         "x": [],
         "y": []
        },
        {
         "marker": {
          "color": "red",
          "size": 20,
          "symbol": "square"
         },
         "mode": "markers",
         "name": "car_red",
         "showlegend": false,
         "type": "scatter",
         "x": [
          5.5,
          5.5,
          5.5
         ],
         "y": [
          0,
          1,
          2
         ]
        },
        {
         "marker": {
          "color": "green",
          "size": 20,
          "symbol": "square"
         },
         "mode": "markers",
         "name": "car_green",
         "showlegend": false,
         "type": "scatter",
         "x": [],
         "y": []
        },
        {
         "marker": {
          "color": "red",
          "size": 20,
          "symbol": "square"
         },
         "mode": "markers",
         "name": "car_red",
         "showlegend": false,
         "type": "scatter",
         "x": [
          6.5,
          6.5,
          6.5
         ],
         "y": [
          0,
          1,
          2
         ]
        }
       ],
       "layout": {
        "height": 300,
        "template": {
         "data": {
          "bar": [
           {
            "error_x": {
             "color": "#2a3f5f"
            },
            "error_y": {
             "color": "#2a3f5f"
            },
            "marker": {
             "line": {
              "color": "#E5ECF6",
              "width": 0.5
             },
             "pattern": {
              "fillmode": "overlay",
              "size": 10,
              "solidity": 0.2
             }
            },
            "type": "bar"
           }
          ],
          "barpolar": [
           {
            "marker": {
             "line": {
              "color": "#E5ECF6",
              "width": 0.5
             },
             "pattern": {
              "fillmode": "overlay",
              "size": 10,
              "solidity": 0.2
             }
            },
            "type": "barpolar"
           }
          ],
          "carpet": [
           {
            "aaxis": {
             "endlinecolor": "#2a3f5f",
             "gridcolor": "white",
             "linecolor": "white",
             "minorgridcolor": "white",
             "startlinecolor": "#2a3f5f"
            },
            "baxis": {
             "endlinecolor": "#2a3f5f",
             "gridcolor": "white",
             "linecolor": "white",
             "minorgridcolor": "white",
             "startlinecolor": "#2a3f5f"
            },
            "type": "carpet"
           }
          ],
          "choropleth": [
           {
            "colorbar": {
             "outlinewidth": 0,
             "ticks": ""
            },
            "type": "choropleth"
           }
          ],
          "contour": [
           {
            "colorbar": {
             "outlinewidth": 0,
             "ticks": ""
            },
            "colorscale": [
             [
              0,
              "#0d0887"
             ],
             [
              0.1111111111111111,
              "#46039f"
             ],
             [
              0.2222222222222222,
              "#7201a8"
             ],
             [
              0.3333333333333333,
              "#9c179e"
             ],
             [
              0.4444444444444444,
              "#bd3786"
             ],
             [
              0.5555555555555556,
              "#d8576b"
             ],
             [
              0.6666666666666666,
              "#ed7953"
             ],
             [
              0.7777777777777778,
              "#fb9f3a"
             ],
             [
              0.8888888888888888,
              "#fdca26"
             ],
             [
              1,
              "#f0f921"
             ]
            ],
            "type": "contour"
           }
          ],
          "contourcarpet": [
           {
            "colorbar": {
             "outlinewidth": 0,
             "ticks": ""
            },
            "type": "contourcarpet"
           }
          ],
          "heatmap": [
           {
            "colorbar": {
             "outlinewidth": 0,
             "ticks": ""
            },
            "colorscale": [
             [
              0,
              "#0d0887"
             ],
             [
              0.1111111111111111,
              "#46039f"
             ],
             [
              0.2222222222222222,
              "#7201a8"
             ],
             [
              0.3333333333333333,
              "#9c179e"
             ],
             [
              0.4444444444444444,
              "#bd3786"
             ],
             [
              0.5555555555555556,
              "#d8576b"
             ],
             [
              0.6666666666666666,
              "#ed7953"
             ],
             [
              0.7777777777777778,
              "#fb9f3a"
             ],
             [
              0.8888888888888888,
              "#fdca26"
             ],
             [
              1,
              "#f0f921"
             ]
            ],
            "type": "heatmap"
           }
          ],
          "heatmapgl": [
           {
            "colorbar": {
             "outlinewidth": 0,
             "ticks": ""
            },
            "colorscale": [
             [
              0,
              "#0d0887"
             ],
             [
              0.1111111111111111,
              "#46039f"
             ],
             [
              0.2222222222222222,
              "#7201a8"
             ],
             [
              0.3333333333333333,
              "#9c179e"
             ],
             [
              0.4444444444444444,
              "#bd3786"
             ],
             [
              0.5555555555555556,
              "#d8576b"
             ],
             [
              0.6666666666666666,
              "#ed7953"
             ],
             [
              0.7777777777777778,
              "#fb9f3a"
             ],
             [
              0.8888888888888888,
              "#fdca26"
             ],
             [
              1,
              "#f0f921"
             ]
            ],
            "type": "heatmapgl"
           }
          ],
          "histogram": [
           {
            "marker": {
             "pattern": {
              "fillmode": "overlay",
              "size": 10,
              "solidity": 0.2
             }
            },
            "type": "histogram"
           }
          ],
          "histogram2d": [
           {
            "colorbar": {
             "outlinewidth": 0,
             "ticks": ""
            },
            "colorscale": [
             [
              0,
              "#0d0887"
             ],
             [
              0.1111111111111111,
              "#46039f"
             ],
             [
              0.2222222222222222,
              "#7201a8"
             ],
             [
              0.3333333333333333,
              "#9c179e"
             ],
             [
              0.4444444444444444,
              "#bd3786"
             ],
             [
              0.5555555555555556,
              "#d8576b"
             ],
             [
              0.6666666666666666,
              "#ed7953"
             ],
             [
              0.7777777777777778,
              "#fb9f3a"
             ],
             [
              0.8888888888888888,
              "#fdca26"
             ],
             [
              1,
              "#f0f921"
             ]
            ],
            "type": "histogram2d"
           }
          ],
          "histogram2dcontour": [
           {
            "colorbar": {
             "outlinewidth": 0,
             "ticks": ""
            },
            "colorscale": [
             [
              0,
              "#0d0887"
             ],
             [
              0.1111111111111111,
              "#46039f"
             ],
             [
              0.2222222222222222,
              "#7201a8"
             ],
             [
              0.3333333333333333,
              "#9c179e"
             ],
             [
              0.4444444444444444,
              "#bd3786"
             ],
             [
              0.5555555555555556,
              "#d8576b"
             ],
             [
              0.6666666666666666,
              "#ed7953"
             ],
             [
              0.7777777777777778,
              "#fb9f3a"
             ],
             [
              0.8888888888888888,
              "#fdca26"
             ],
             [
              1,
              "#f0f921"
             ]
            ],
            "type": "histogram2dcontour"
           }
          ],
          "mesh3d": [
           {
            "colorbar": {
             "outlinewidth": 0,
             "ticks": ""
            },
            "type": "mesh3d"
           }
          ],
          "parcoords": [
           {
            "line": {
             "colorbar": {
              "outlinewidth": 0,
              "ticks": ""
             }
            },
            "type": "parcoords"
           }
          ],
          "pie": [
           {
            "automargin": true,
            "type": "pie"
           }
          ],
          "scatter": [
           {
            "fillpattern": {
             "fillmode": "overlay",
             "size": 10,
             "solidity": 0.2
            },
            "type": "scatter"
           }
          ],
          "scatter3d": [
           {
            "line": {
             "colorbar": {
              "outlinewidth": 0,
              "ticks": ""
             }
            },
            "marker": {
             "colorbar": {
              "outlinewidth": 0,
              "ticks": ""
             }
            },
            "type": "scatter3d"
           }
          ],
          "scattercarpet": [
           {
            "marker": {
             "colorbar": {
              "outlinewidth": 0,
              "ticks": ""
             }
            },
            "type": "scattercarpet"
           }
          ],
          "scattergeo": [
           {
            "marker": {
             "colorbar": {
              "outlinewidth": 0,
              "ticks": ""
             }
            },
            "type": "scattergeo"
           }
          ],
          "scattergl": [
           {
            "marker": {
             "colorbar": {
              "outlinewidth": 0,
              "ticks": ""
             }
            },
            "type": "scattergl"
           }
          ],
          "scattermapbox": [
           {
            "marker": {
             "colorbar": {
              "outlinewidth": 0,
              "ticks": ""
             }
            },
            "type": "scattermapbox"
           }
          ],
          "scatterpolar": [
           {
            "marker": {
             "colorbar": {
              "outlinewidth": 0,
              "ticks": ""
             }
            },
            "type": "scatterpolar"
           }
          ],
          "scatterpolargl": [
           {
            "marker": {
             "colorbar": {
              "outlinewidth": 0,
              "ticks": ""
             }
            },
            "type": "scatterpolargl"
           }
          ],
          "scatterternary": [
           {
            "marker": {
             "colorbar": {
              "outlinewidth": 0,
              "ticks": ""
             }
            },
            "type": "scatterternary"
           }
          ],
          "surface": [
           {
            "colorbar": {
             "outlinewidth": 0,
             "ticks": ""
            },
            "colorscale": [
             [
              0,
              "#0d0887"
             ],
             [
              0.1111111111111111,
              "#46039f"
             ],
             [
              0.2222222222222222,
              "#7201a8"
             ],
             [
              0.3333333333333333,
              "#9c179e"
             ],
             [
              0.4444444444444444,
              "#bd3786"
             ],
             [
              0.5555555555555556,
              "#d8576b"
             ],
             [
              0.6666666666666666,
              "#ed7953"
             ],
             [
              0.7777777777777778,
              "#fb9f3a"
             ],
             [
              0.8888888888888888,
              "#fdca26"
             ],
             [
              1,
              "#f0f921"
             ]
            ],
            "type": "surface"
           }
          ],
          "table": [
           {
            "cells": {
             "fill": {
              "color": "#EBF0F8"
             },
             "line": {
              "color": "white"
             }
            },
            "header": {
             "fill": {
              "color": "#C8D4E3"
             },
             "line": {
              "color": "white"
             }
            },
            "type": "table"
           }
          ]
         },
         "layout": {
          "annotationdefaults": {
           "arrowcolor": "#2a3f5f",
           "arrowhead": 0,
           "arrowwidth": 1
          },
          "autotypenumbers": "strict",
          "coloraxis": {
           "colorbar": {
            "outlinewidth": 0,
            "ticks": ""
           }
          },
          "colorscale": {
           "diverging": [
            [
             0,
             "#8e0152"
            ],
            [
             0.1,
             "#c51b7d"
            ],
            [
             0.2,
             "#de77ae"
            ],
            [
             0.3,
             "#f1b6da"
            ],
            [
             0.4,
             "#fde0ef"
            ],
            [
             0.5,
             "#f7f7f7"
            ],
            [
             0.6,
             "#e6f5d0"
            ],
            [
             0.7,
             "#b8e186"
            ],
            [
             0.8,
             "#7fbc41"
            ],
            [
             0.9,
             "#4d9221"
            ],
            [
             1,
             "#276419"
            ]
           ],
           "sequential": [
            [
             0,
             "#0d0887"
            ],
            [
             0.1111111111111111,
             "#46039f"
            ],
            [
             0.2222222222222222,
             "#7201a8"
            ],
            [
             0.3333333333333333,
             "#9c179e"
            ],
            [
             0.4444444444444444,
             "#bd3786"
            ],
            [
             0.5555555555555556,
             "#d8576b"
            ],
            [
             0.6666666666666666,
             "#ed7953"
            ],
            [
             0.7777777777777778,
             "#fb9f3a"
            ],
            [
             0.8888888888888888,
             "#fdca26"
            ],
            [
             1,
             "#f0f921"
            ]
           ],
           "sequentialminus": [
            [
             0,
             "#0d0887"
            ],
            [
             0.1111111111111111,
             "#46039f"
            ],
            [
             0.2222222222222222,
             "#7201a8"
            ],
            [
             0.3333333333333333,
             "#9c179e"
            ],
            [
             0.4444444444444444,
             "#bd3786"
            ],
            [
             0.5555555555555556,
             "#d8576b"
            ],
            [
             0.6666666666666666,
             "#ed7953"
            ],
            [
             0.7777777777777778,
             "#fb9f3a"
            ],
            [
             0.8888888888888888,
             "#fdca26"
            ],
            [
             1,
             "#f0f921"
            ]
           ]
          },
          "colorway": [
           "#636efa",
           "#EF553B",
           "#00cc96",
           "#ab63fa",
           "#FFA15A",
           "#19d3f3",
           "#FF6692",
           "#B6E880",
           "#FF97FF",
           "#FECB52"
          ],
          "font": {
           "color": "#2a3f5f"
          },
          "geo": {
           "bgcolor": "white",
           "lakecolor": "white",
           "landcolor": "#E5ECF6",
           "showlakes": true,
           "showland": true,
           "subunitcolor": "white"
          },
          "hoverlabel": {
           "align": "left"
          },
          "hovermode": "closest",
          "mapbox": {
           "style": "light"
          },
          "paper_bgcolor": "white",
          "plot_bgcolor": "#E5ECF6",
          "polar": {
           "angularaxis": {
            "gridcolor": "white",
            "linecolor": "white",
            "ticks": ""
           },
           "bgcolor": "#E5ECF6",
           "radialaxis": {
            "gridcolor": "white",
            "linecolor": "white",
            "ticks": ""
           }
          },
          "scene": {
           "xaxis": {
            "backgroundcolor": "#E5ECF6",
            "gridcolor": "white",
            "gridwidth": 2,
            "linecolor": "white",
            "showbackground": true,
            "ticks": "",
            "zerolinecolor": "white"
           },
           "yaxis": {
            "backgroundcolor": "#E5ECF6",
            "gridcolor": "white",
            "gridwidth": 2,
            "linecolor": "white",
            "showbackground": true,
            "ticks": "",
            "zerolinecolor": "white"
           },
           "zaxis": {
            "backgroundcolor": "#E5ECF6",
            "gridcolor": "white",
            "gridwidth": 2,
            "linecolor": "white",
            "showbackground": true,
            "ticks": "",
            "zerolinecolor": "white"
           }
          },
          "shapedefaults": {
           "line": {
            "color": "#2a3f5f"
           }
          },
          "ternary": {
           "aaxis": {
            "gridcolor": "white",
            "linecolor": "white",
            "ticks": ""
           },
           "baxis": {
            "gridcolor": "white",
            "linecolor": "white",
            "ticks": ""
           },
           "bgcolor": "#E5ECF6",
           "caxis": {
            "gridcolor": "white",
            "linecolor": "white",
            "ticks": ""
           }
          },
          "title": {
           "x": 0.05
          },
          "xaxis": {
           "automargin": true,
           "gridcolor": "white",
           "linecolor": "white",
           "ticks": "",
           "title": {
            "standoff": 15
           },
           "zerolinecolor": "white",
           "zerolinewidth": 2
          },
          "yaxis": {
           "automargin": true,
           "gridcolor": "white",
           "linecolor": "white",
           "ticks": "",
           "title": {
            "standoff": 15
           },
           "zerolinecolor": "white",
           "zerolinewidth": 2
          }
         }
        },
        "width": 400,
        "xaxis": {
         "dtick": 1,
         "range": [
          0.01,
          7
         ],
         "tick0": 1,
         "ticktext": [
          0,
          1,
          2,
          3,
          4,
          5,
          6
         ],
         "tickvals": [
          0.5,
          1.5,
          2.5,
          3.5,
          4.5,
          5.5,
          6.5
         ],
         "title": {
          "font": {
           "size": 12
          },
          "text": "time slot"
         }
        },
        "yaxis": {
         "range": [
          -0.6,
          5
         ],
         "ticktext": [
          0,
          1,
          2,
          3,
          4,
          5
         ],
         "tickvals": [
          -0.5,
          0.5,
          1.5,
          2.5,
          3.5,
          4.5
         ],
         "title": {
          "font": {
           "size": 12
          },
          "text": "charging level"
         },
         "zeroline": false
        }
       }
      }
     },
     "metadata": {},
     "output_type": "display_data"
    }
   ],
   "source": [
    "from utils import plot_charging_schedule\n",
    "\n",
    "fig = plot_charging_schedule(\n",
    "charging_unit, qcio_minimization_result.x, marker_size=20)\n",
    "fig.update_layout(width=400, height=300)\n",
    "fig.show()"
   ]
  },
  {
   "cell_type": "markdown",
   "metadata": {},
   "source": [
    "In the following we will turn the QCIO problem into a quadratic unconstrained integer optimzation problem (QUIO). And after that into a QUBO which is for binary optimization and a QAOA can solve.\n",
    "\n",
    "Turning the problem into an unconstrained one is just to incorporate the constraint term into the cost function on which we have to optimize. E.g.\n",
    "$f_1=f_1(p)$ cost plus $C=C(p)$ constraint into $f_2(p,\\rho) = f_1(p)+\\rho ||(C-C(p))||^2$. And here we're still looking for a $p$ that minimizes $f_2$ with a well chosen parameter $\\rho$. When $\\rho$ is large enough the solution of the QUIO is also the approx solution of the QCIO as the optimization will try to reduce the contribution of the seconf term in $f_2$.\n",
    "\n",
    "The binary encoding is performed on the variables that we want to minimize on $b = B p $ where $b_i\\in{0,1}$. This transformation leads to the following optimization QUBO problem:\n",
    "\n",
    "$\\underset{b\\in\\{0,1\\}^{\\hat{N}}}{min} f_3(b, \\rho)$\n",
    "\n",
    "Usually the dimension of the encoding vector differs from the original variable, which is due to the capacity of the binary representation. So if $p_i\\in{0,1,...,5}$ then its binary there is enough 3 bits for binary representation that will encode these numbers. However, no we substituted one scalar number with a binary vector, or bitstring in this case and hence the dimensionality increased.\n",
    "\n",
    "In the following we write a comverter class that performs the QCIO $\\rightarrow$ QUBO transformations."
   ]
  },
  {
   "cell_type": "code",
   "execution_count": 15,
   "metadata": {},
   "outputs": [],
   "source": [
    "from typing import Union\n",
    "from qiskit_optimization.converters import QuadraticProgramConverter, \\\n",
    "LinearEqualityToPenalty, IntegerToBinary\n",
    "\n",
    "class Converter(QuadraticProgramConverter):\n",
    "    def __init__(self, penalty: float=None) -> None:\n",
    "        \"\"\"\n",
    "        penalty: penalty parameter rho for the QUIO\n",
    "        \"\"\"\n",
    "        super().__init__()  \n",
    "        self._penalty = penalty\n",
    "        self.linear_equality_to_penalty_converter = LinearEqualityToPenalty(penalty)\n",
    "        self.integer_to_binary_converter = IntegerToBinary()\n",
    "    \n",
    "    def convert(self, quadratic_program: QuadraticProgram) -> QuadraticProgram:\n",
    "        return self.integer_to_binary_converter.convert(self.linear_equality_to_penalty_converter.convert(quadratic_program))\n",
    "    \n",
    "    def interpret(self, x: Union[np.ndarray, List[float]]) -> np.ndarray:\n",
    "        return self.linear_equality_to_penalty_converter.interpret(self.integer_to_binary_converter.interpret(x))"
   ]
  },
  {
   "cell_type": "markdown",
   "metadata": {},
   "source": [
    "Let's convert our example of red and green cars from QCIO to QUBO"
   ]
  },
  {
   "cell_type": "code",
   "execution_count": 16,
   "metadata": {},
   "outputs": [
    {
     "name": "stdout",
     "output_type": "stream",
     "text": [
      "Problem name: QUBO\n",
      "\n",
      "Minimize\n",
      "  6.1*p_car_green_t0@0^2 + 24.4*p_car_green_t0@0*p_car_green_t0@1\n",
      "  + 24.4*p_car_green_t0@0*p_car_green_t0@2\n",
      "  + 10.2*p_car_green_t0@0*p_car_green_t1@0\n",
      "  + 20.4*p_car_green_t0@0*p_car_green_t1@1\n",
      "  + 20.4*p_car_green_t0@0*p_car_green_t1@2\n",
      "  + 10.2*p_car_green_t0@0*p_car_green_t2@0\n",
      "  + 20.4*p_car_green_t0@0*p_car_green_t2@1\n",
      "  + 20.4*p_car_green_t0@0*p_car_green_t2@2\n",
      "  + 10.2*p_car_green_t0@0*p_car_green_t3@0\n",
      "  + 20.4*p_car_green_t0@0*p_car_green_t3@1\n",
      "  + 20.4*p_car_green_t0@0*p_car_green_t3@2 + 2*p_car_green_t0@0*p_car_red_t0@0\n",
      "  + 4*p_car_green_t0@0*p_car_red_t0@1 + 4*p_car_green_t0@0*p_car_red_t0@2\n",
      "  + 24.4*p_car_green_t0@1^2 + 48.8*p_car_green_t0@1*p_car_green_t0@2\n",
      "  + 20.4*p_car_green_t0@1*p_car_green_t1@0\n",
      "  + 40.8*p_car_green_t0@1*p_car_green_t1@1\n",
      "  + 40.8*p_car_green_t0@1*p_car_green_t1@2\n",
      "  + 20.4*p_car_green_t0@1*p_car_green_t2@0\n",
      "  + 40.8*p_car_green_t0@1*p_car_green_t2@1\n",
      "  + 40.8*p_car_green_t0@1*p_car_green_t2@2\n",
      "  + 20.4*p_car_green_t0@1*p_car_green_t3@0\n",
      "  + 40.8*p_car_green_t0@1*p_car_green_t3@1\n",
      "  + 40.8*p_car_green_t0@1*p_car_green_t3@2 + 4*p_car_green_t0@1*p_car_red_t0@0\n",
      "  + 8*p_car_green_t0@1*p_car_red_t0@1 + 8*p_car_green_t0@1*p_car_red_t0@2\n",
      "  + 24.4*p_car_green_t0@2^2 + 20.4*p_car_green_t0@2*p_car_green_t1@0\n",
      "  + 40.8*p_car_green_t0@2*p_car_green_t1@1\n",
      "  + 40.8*p_car_green_t0@2*p_car_green_t1@2\n",
      "  + 20.4*p_car_green_t0@2*p_car_green_t2@0\n",
      "  + 40.8*p_car_green_t0@2*p_car_green_t2@1\n",
      "  + 40.8*p_car_green_t0@2*p_car_green_t2@2\n",
      "  + 20.4*p_car_green_t0@2*p_car_green_t3@0\n",
      "  + 40.8*p_car_green_t0@2*p_car_green_t3@1\n",
      "  + 40.8*p_car_green_t0@2*p_car_green_t3@2 + 4*p_car_green_t0@2*p_car_red_t0@0\n",
      "  + 8*p_car_green_t0@2*p_car_red_t0@1 + 8*p_car_green_t0@2*p_car_red_t0@2\n",
      "  + 6.1*p_car_green_t1@0^2 + 24.4*p_car_green_t1@0*p_car_green_t1@1\n",
      "  + 24.4*p_car_green_t1@0*p_car_green_t1@2\n",
      "  + 10.2*p_car_green_t1@0*p_car_green_t2@0\n",
      "  + 20.4*p_car_green_t1@0*p_car_green_t2@1\n",
      "  + 20.4*p_car_green_t1@0*p_car_green_t2@2\n",
      "  + 10.2*p_car_green_t1@0*p_car_green_t3@0\n",
      "  + 20.4*p_car_green_t1@0*p_car_green_t3@1\n",
      "  + 20.4*p_car_green_t1@0*p_car_green_t3@2 + 2*p_car_green_t1@0*p_car_red_t1@0\n",
      "  + 4*p_car_green_t1@0*p_car_red_t1@1 + 4*p_car_green_t1@0*p_car_red_t1@2\n",
      "  + 24.4*p_car_green_t1@1^2 + 48.8*p_car_green_t1@1*p_car_green_t1@2\n",
      "  + 20.4*p_car_green_t1@1*p_car_green_t2@0\n",
      "  + 40.8*p_car_green_t1@1*p_car_green_t2@1\n",
      "  + 40.8*p_car_green_t1@1*p_car_green_t2@2\n",
      "  + 20.4*p_car_green_t1@1*p_car_green_t3@0\n",
      "  + 40.8*p_car_green_t1@1*p_car_green_t3@1\n",
      "  + 40.8*p_car_green_t1@1*p_car_green_t3@2 + 4*p_car_green_t1@1*p_car_red_t1@0\n",
      "  + 8*p_car_green_t1@1*p_car_red_t1@1 + 8*p_car_green_t1@1*p_car_red_t1@2\n",
      "  + 24.4*p_car_green_t1@2^2 + 20.4*p_car_green_t1@2*p_car_green_t2@0\n",
      "  + 40.8*p_car_green_t1@2*p_car_green_t2@1\n",
      "  + 40.8*p_car_green_t1@2*p_car_green_t2@2\n",
      "  + 20.4*p_car_green_t1@2*p_car_green_t3@0\n",
      "  + 40.8*p_car_green_t1@2*p_car_green_t3@1\n",
      "  + 40.8*p_car_green_t1@2*p_car_green_t3@2 + 4*p_car_green_t1@2*p_car_red_t1@0\n",
      "  + 8*p_car_green_t1@2*p_car_red_t1@1 + 8*p_car_green_t1@2*p_car_red_t1@2\n",
      "  + 6.1*p_car_green_t2@0^2 + 24.4*p_car_green_t2@0*p_car_green_t2@1\n",
      "  + 24.4*p_car_green_t2@0*p_car_green_t2@2\n",
      "  + 10.2*p_car_green_t2@0*p_car_green_t3@0\n",
      "  + 20.4*p_car_green_t2@0*p_car_green_t3@1\n",
      "  + 20.4*p_car_green_t2@0*p_car_green_t3@2 + 2*p_car_green_t2@0*p_car_red_t2@0\n",
      "  + 4*p_car_green_t2@0*p_car_red_t2@1 + 4*p_car_green_t2@0*p_car_red_t2@2\n",
      "  + 24.4*p_car_green_t2@1^2 + 48.8*p_car_green_t2@1*p_car_green_t2@2\n",
      "  + 20.4*p_car_green_t2@1*p_car_green_t3@0\n",
      "  + 40.8*p_car_green_t2@1*p_car_green_t3@1\n",
      "  + 40.8*p_car_green_t2@1*p_car_green_t3@2 + 4*p_car_green_t2@1*p_car_red_t2@0\n",
      "  + 8*p_car_green_t2@1*p_car_red_t2@1 + 8*p_car_green_t2@1*p_car_red_t2@2\n",
      "  + 24.4*p_car_green_t2@2^2 + 20.4*p_car_green_t2@2*p_car_green_t3@0\n",
      "  + 40.8*p_car_green_t2@2*p_car_green_t3@1\n",
      "  + 40.8*p_car_green_t2@2*p_car_green_t3@2 + 4*p_car_green_t2@2*p_car_red_t2@0\n",
      "  + 8*p_car_green_t2@2*p_car_red_t2@1 + 8*p_car_green_t2@2*p_car_red_t2@2\n",
      "  + 6.1*p_car_green_t3@0^2 + 24.4*p_car_green_t3@0*p_car_green_t3@1\n",
      "  + 24.4*p_car_green_t3@0*p_car_green_t3@2 + 2*p_car_green_t3@0*p_car_red_t3@0\n",
      "  + 4*p_car_green_t3@0*p_car_red_t3@1 + 4*p_car_green_t3@0*p_car_red_t3@2\n",
      "  + 24.4*p_car_green_t3@1^2 + 48.8*p_car_green_t3@1*p_car_green_t3@2\n",
      "  + 4*p_car_green_t3@1*p_car_red_t3@0 + 8*p_car_green_t3@1*p_car_red_t3@1\n",
      "  + 8*p_car_green_t3@1*p_car_red_t3@2 + 24.4*p_car_green_t3@2^2\n",
      "  + 4*p_car_green_t3@2*p_car_red_t3@0 + 8*p_car_green_t3@2*p_car_red_t3@1\n",
      "  + 8*p_car_green_t3@2*p_car_red_t3@2 + p_car_green_t4@0^2\n",
      "  + 4*p_car_green_t4@0*p_car_green_t4@1 + 4*p_car_green_t4@0*p_car_green_t4@2\n",
      "  + 2*p_car_green_t4@0*p_car_red_t4@0 + 4*p_car_green_t4@0*p_car_red_t4@1\n",
      "  + 4*p_car_green_t4@0*p_car_red_t4@2 + 4*p_car_green_t4@1^2\n",
      "  + 8*p_car_green_t4@1*p_car_green_t4@2 + 4*p_car_green_t4@1*p_car_red_t4@0\n",
      "  + 8*p_car_green_t4@1*p_car_red_t4@1 + 8*p_car_green_t4@1*p_car_red_t4@2\n",
      "  + 4*p_car_green_t4@2^2 + 4*p_car_green_t4@2*p_car_red_t4@0\n",
      "  + 8*p_car_green_t4@2*p_car_red_t4@1 + 8*p_car_green_t4@2*p_car_red_t4@2\n",
      "  + p_car_green_t5@0^2 + 4*p_car_green_t5@0*p_car_green_t5@1\n",
      "  + 4*p_car_green_t5@0*p_car_green_t5@2 + 2*p_car_green_t5@0*p_car_red_t5@0\n",
      "  + 4*p_car_green_t5@0*p_car_red_t5@1 + 4*p_car_green_t5@0*p_car_red_t5@2\n",
      "  + 4*p_car_green_t5@1^2 + 8*p_car_green_t5@1*p_car_green_t5@2\n",
      "  + 4*p_car_green_t5@1*p_car_red_t5@0 + 8*p_car_green_t5@1*p_car_red_t5@1\n",
      "  + 8*p_car_green_t5@1*p_car_red_t5@2 + 4*p_car_green_t5@2^2\n",
      "  + 4*p_car_green_t5@2*p_car_red_t5@0 + 8*p_car_green_t5@2*p_car_red_t5@1\n",
      "  + 8*p_car_green_t5@2*p_car_red_t5@2 + p_car_green_t6@0^2\n",
      "  + 4*p_car_green_t6@0*p_car_green_t6@1 + 4*p_car_green_t6@0*p_car_green_t6@2\n",
      "  + 2*p_car_green_t6@0*p_car_red_t6@0 + 4*p_car_green_t6@0*p_car_red_t6@1\n",
      "  + 4*p_car_green_t6@0*p_car_red_t6@2 + 4*p_car_green_t6@1^2\n",
      "  + 8*p_car_green_t6@1*p_car_green_t6@2 + 4*p_car_green_t6@1*p_car_red_t6@0\n",
      "  + 8*p_car_green_t6@1*p_car_red_t6@1 + 8*p_car_green_t6@1*p_car_red_t6@2\n",
      "  + 4*p_car_green_t6@2^2 + 4*p_car_green_t6@2*p_car_red_t6@0\n",
      "  + 8*p_car_green_t6@2*p_car_red_t6@1 + 8*p_car_green_t6@2*p_car_red_t6@2\n",
      "  + 6.1*p_car_red_t0@0^2 + 24.4*p_car_red_t0@0*p_car_red_t0@1\n",
      "  + 24.4*p_car_red_t0@0*p_car_red_t0@2 + 10.2*p_car_red_t0@0*p_car_red_t1@0\n",
      "  + 20.4*p_car_red_t0@0*p_car_red_t1@1 + 20.4*p_car_red_t0@0*p_car_red_t1@2\n",
      "  + 10.2*p_car_red_t0@0*p_car_red_t2@0 + 20.4*p_car_red_t0@0*p_car_red_t2@1\n",
      "  + 20.4*p_car_red_t0@0*p_car_red_t2@2 + 10.2*p_car_red_t0@0*p_car_red_t3@0\n",
      "  + 20.4*p_car_red_t0@0*p_car_red_t3@1 + 20.4*p_car_red_t0@0*p_car_red_t3@2\n",
      "  + 10.2*p_car_red_t0@0*p_car_red_t4@0 + 20.4*p_car_red_t0@0*p_car_red_t4@1\n",
      "  + 20.4*p_car_red_t0@0*p_car_red_t4@2 + 10.2*p_car_red_t0@0*p_car_red_t5@0\n",
      "  + 20.4*p_car_red_t0@0*p_car_red_t5@1 + 20.4*p_car_red_t0@0*p_car_red_t5@2\n",
      "  + 10.2*p_car_red_t0@0*p_car_red_t6@0 + 20.4*p_car_red_t0@0*p_car_red_t6@1\n",
      "  + 20.4*p_car_red_t0@0*p_car_red_t6@2 + 24.4*p_car_red_t0@1^2\n",
      "  + 48.8*p_car_red_t0@1*p_car_red_t0@2 + 20.4*p_car_red_t0@1*p_car_red_t1@0\n",
      "  + 40.8*p_car_red_t0@1*p_car_red_t1@1 + 40.8*p_car_red_t0@1*p_car_red_t1@2\n",
      "  + 20.4*p_car_red_t0@1*p_car_red_t2@0 + 40.8*p_car_red_t0@1*p_car_red_t2@1\n",
      "  + 40.8*p_car_red_t0@1*p_car_red_t2@2 + 20.4*p_car_red_t0@1*p_car_red_t3@0\n",
      "  + 40.8*p_car_red_t0@1*p_car_red_t3@1 + 40.8*p_car_red_t0@1*p_car_red_t3@2\n",
      "  + 20.4*p_car_red_t0@1*p_car_red_t4@0 + 40.8*p_car_red_t0@1*p_car_red_t4@1\n",
      "  + 40.8*p_car_red_t0@1*p_car_red_t4@2 + 20.4*p_car_red_t0@1*p_car_red_t5@0\n",
      "  + 40.8*p_car_red_t0@1*p_car_red_t5@1 + 40.8*p_car_red_t0@1*p_car_red_t5@2\n",
      "  + 20.4*p_car_red_t0@1*p_car_red_t6@0 + 40.8*p_car_red_t0@1*p_car_red_t6@1\n",
      "  + 40.8*p_car_red_t0@1*p_car_red_t6@2 + 24.4*p_car_red_t0@2^2\n",
      "  + 20.4*p_car_red_t0@2*p_car_red_t1@0 + 40.8*p_car_red_t0@2*p_car_red_t1@1\n",
      "  + 40.8*p_car_red_t0@2*p_car_red_t1@2 + 20.4*p_car_red_t0@2*p_car_red_t2@0\n",
      "  + 40.8*p_car_red_t0@2*p_car_red_t2@1 + 40.8*p_car_red_t0@2*p_car_red_t2@2\n",
      "  + 20.4*p_car_red_t0@2*p_car_red_t3@0 + 40.8*p_car_red_t0@2*p_car_red_t3@1\n",
      "  + 40.8*p_car_red_t0@2*p_car_red_t3@2 + 20.4*p_car_red_t0@2*p_car_red_t4@0\n",
      "  + 40.8*p_car_red_t0@2*p_car_red_t4@1 + 40.8*p_car_red_t0@2*p_car_red_t4@2\n",
      "  + 20.4*p_car_red_t0@2*p_car_red_t5@0 + 40.8*p_car_red_t0@2*p_car_red_t5@1\n",
      "  + 40.8*p_car_red_t0@2*p_car_red_t5@2 + 20.4*p_car_red_t0@2*p_car_red_t6@0\n",
      "  + 40.8*p_car_red_t0@2*p_car_red_t6@1 + 40.8*p_car_red_t0@2*p_car_red_t6@2\n",
      "  + 6.1*p_car_red_t1@0^2 + 24.4*p_car_red_t1@0*p_car_red_t1@1\n",
      "  + 24.4*p_car_red_t1@0*p_car_red_t1@2 + 10.2*p_car_red_t1@0*p_car_red_t2@0\n",
      "  + 20.4*p_car_red_t1@0*p_car_red_t2@1 + 20.4*p_car_red_t1@0*p_car_red_t2@2\n",
      "  + 10.2*p_car_red_t1@0*p_car_red_t3@0 + 20.4*p_car_red_t1@0*p_car_red_t3@1\n",
      "  + 20.4*p_car_red_t1@0*p_car_red_t3@2 + 10.2*p_car_red_t1@0*p_car_red_t4@0\n",
      "  + 20.4*p_car_red_t1@0*p_car_red_t4@1 + 20.4*p_car_red_t1@0*p_car_red_t4@2\n",
      "  + 10.2*p_car_red_t1@0*p_car_red_t5@0 + 20.4*p_car_red_t1@0*p_car_red_t5@1\n",
      "  + 20.4*p_car_red_t1@0*p_car_red_t5@2 + 10.2*p_car_red_t1@0*p_car_red_t6@0\n",
      "  + 20.4*p_car_red_t1@0*p_car_red_t6@1 + 20.4*p_car_red_t1@0*p_car_red_t6@2\n",
      "  + 24.4*p_car_red_t1@1^2 + 48.8*p_car_red_t1@1*p_car_red_t1@2\n",
      "  + 20.4*p_car_red_t1@1*p_car_red_t2@0 + 40.8*p_car_red_t1@1*p_car_red_t2@1\n",
      "  + 40.8*p_car_red_t1@1*p_car_red_t2@2 + 20.4*p_car_red_t1@1*p_car_red_t3@0\n",
      "  + 40.8*p_car_red_t1@1*p_car_red_t3@1 + 40.8*p_car_red_t1@1*p_car_red_t3@2\n",
      "  + 20.4*p_car_red_t1@1*p_car_red_t4@0 + 40.8*p_car_red_t1@1*p_car_red_t4@1\n",
      "  + 40.8*p_car_red_t1@1*p_car_red_t4@2 + 20.4*p_car_red_t1@1*p_car_red_t5@0\n",
      "  + 40.8*p_car_red_t1@1*p_car_red_t5@1 + 40.8*p_car_red_t1@1*p_car_red_t5@2\n",
      "  + 20.4*p_car_red_t1@1*p_car_red_t6@0 + 40.8*p_car_red_t1@1*p_car_red_t6@1\n",
      "  + 40.8*p_car_red_t1@1*p_car_red_t6@2 + 24.4*p_car_red_t1@2^2\n",
      "  + 20.4*p_car_red_t1@2*p_car_red_t2@0 + 40.8*p_car_red_t1@2*p_car_red_t2@1\n",
      "  + 40.8*p_car_red_t1@2*p_car_red_t2@2 + 20.4*p_car_red_t1@2*p_car_red_t3@0\n",
      "  + 40.8*p_car_red_t1@2*p_car_red_t3@1 + 40.8*p_car_red_t1@2*p_car_red_t3@2\n",
      "  + 20.4*p_car_red_t1@2*p_car_red_t4@0 + 40.8*p_car_red_t1@2*p_car_red_t4@1\n",
      "  + 40.8*p_car_red_t1@2*p_car_red_t4@2 + 20.4*p_car_red_t1@2*p_car_red_t5@0\n",
      "  + 40.8*p_car_red_t1@2*p_car_red_t5@1 + 40.8*p_car_red_t1@2*p_car_red_t5@2\n",
      "  + 20.4*p_car_red_t1@2*p_car_red_t6@0 + 40.8*p_car_red_t1@2*p_car_red_t6@1\n",
      "  + 40.8*p_car_red_t1@2*p_car_red_t6@2 + 6.1*p_car_red_t2@0^2\n",
      "  + 24.4*p_car_red_t2@0*p_car_red_t2@1 + 24.4*p_car_red_t2@0*p_car_red_t2@2\n",
      "  + 10.2*p_car_red_t2@0*p_car_red_t3@0 + 20.4*p_car_red_t2@0*p_car_red_t3@1\n",
      "  + 20.4*p_car_red_t2@0*p_car_red_t3@2 + 10.2*p_car_red_t2@0*p_car_red_t4@0\n",
      "  + 20.4*p_car_red_t2@0*p_car_red_t4@1 + 20.4*p_car_red_t2@0*p_car_red_t4@2\n",
      "  + 10.2*p_car_red_t2@0*p_car_red_t5@0 + 20.4*p_car_red_t2@0*p_car_red_t5@1\n",
      "  + 20.4*p_car_red_t2@0*p_car_red_t5@2 + 10.2*p_car_red_t2@0*p_car_red_t6@0\n",
      "  + 20.4*p_car_red_t2@0*p_car_red_t6@1 + 20.4*p_car_red_t2@0*p_car_red_t6@2\n",
      "  + 24.4*p_car_red_t2@1^2 + 48.8*p_car_red_t2@1*p_car_red_t2@2\n",
      "  + 20.4*p_car_red_t2@1*p_car_red_t3@0 + 40.8*p_car_red_t2@1*p_car_red_t3@1\n",
      "  + 40.8*p_car_red_t2@1*p_car_red_t3@2 + 20.4*p_car_red_t2@1*p_car_red_t4@0\n",
      "  + 40.8*p_car_red_t2@1*p_car_red_t4@1 + 40.8*p_car_red_t2@1*p_car_red_t4@2\n",
      "  + 20.4*p_car_red_t2@1*p_car_red_t5@0 + 40.8*p_car_red_t2@1*p_car_red_t5@1\n",
      "  + 40.8*p_car_red_t2@1*p_car_red_t5@2 + 20.4*p_car_red_t2@1*p_car_red_t6@0\n",
      "  + 40.8*p_car_red_t2@1*p_car_red_t6@1 + 40.8*p_car_red_t2@1*p_car_red_t6@2\n",
      "  + 24.4*p_car_red_t2@2^2 + 20.4*p_car_red_t2@2*p_car_red_t3@0\n",
      "  + 40.8*p_car_red_t2@2*p_car_red_t3@1 + 40.8*p_car_red_t2@2*p_car_red_t3@2\n",
      "  + 20.4*p_car_red_t2@2*p_car_red_t4@0 + 40.8*p_car_red_t2@2*p_car_red_t4@1\n",
      "  + 40.8*p_car_red_t2@2*p_car_red_t4@2 + 20.4*p_car_red_t2@2*p_car_red_t5@0\n",
      "  + 40.8*p_car_red_t2@2*p_car_red_t5@1 + 40.8*p_car_red_t2@2*p_car_red_t5@2\n",
      "  + 20.4*p_car_red_t2@2*p_car_red_t6@0 + 40.8*p_car_red_t2@2*p_car_red_t6@1\n",
      "  + 40.8*p_car_red_t2@2*p_car_red_t6@2 + 6.1*p_car_red_t3@0^2\n",
      "  + 24.4*p_car_red_t3@0*p_car_red_t3@1 + 24.4*p_car_red_t3@0*p_car_red_t3@2\n",
      "  + 10.2*p_car_red_t3@0*p_car_red_t4@0 + 20.4*p_car_red_t3@0*p_car_red_t4@1\n",
      "  + 20.4*p_car_red_t3@0*p_car_red_t4@2 + 10.2*p_car_red_t3@0*p_car_red_t5@0\n",
      "  + 20.4*p_car_red_t3@0*p_car_red_t5@1 + 20.4*p_car_red_t3@0*p_car_red_t5@2\n",
      "  + 10.2*p_car_red_t3@0*p_car_red_t6@0 + 20.4*p_car_red_t3@0*p_car_red_t6@1\n",
      "  + 20.4*p_car_red_t3@0*p_car_red_t6@2 + 24.4*p_car_red_t3@1^2\n",
      "  + 48.8*p_car_red_t3@1*p_car_red_t3@2 + 20.4*p_car_red_t3@1*p_car_red_t4@0\n",
      "  + 40.8*p_car_red_t3@1*p_car_red_t4@1 + 40.8*p_car_red_t3@1*p_car_red_t4@2\n",
      "  + 20.4*p_car_red_t3@1*p_car_red_t5@0 + 40.8*p_car_red_t3@1*p_car_red_t5@1\n",
      "  + 40.8*p_car_red_t3@1*p_car_red_t5@2 + 20.4*p_car_red_t3@1*p_car_red_t6@0\n",
      "  + 40.8*p_car_red_t3@1*p_car_red_t6@1 + 40.8*p_car_red_t3@1*p_car_red_t6@2\n",
      "  + 24.4*p_car_red_t3@2^2 + 20.4*p_car_red_t3@2*p_car_red_t4@0\n",
      "  + 40.8*p_car_red_t3@2*p_car_red_t4@1 + 40.8*p_car_red_t3@2*p_car_red_t4@2\n",
      "  + 20.4*p_car_red_t3@2*p_car_red_t5@0 + 40.8*p_car_red_t3@2*p_car_red_t5@1\n",
      "  + 40.8*p_car_red_t3@2*p_car_red_t5@2 + 20.4*p_car_red_t3@2*p_car_red_t6@0\n",
      "  + 40.8*p_car_red_t3@2*p_car_red_t6@1 + 40.8*p_car_red_t3@2*p_car_red_t6@2\n",
      "  + 6.1*p_car_red_t4@0^2 + 24.4*p_car_red_t4@0*p_car_red_t4@1\n",
      "  + 24.4*p_car_red_t4@0*p_car_red_t4@2 + 10.2*p_car_red_t4@0*p_car_red_t5@0\n",
      "  + 20.4*p_car_red_t4@0*p_car_red_t5@1 + 20.4*p_car_red_t4@0*p_car_red_t5@2\n",
      "  + 10.2*p_car_red_t4@0*p_car_red_t6@0 + 20.4*p_car_red_t4@0*p_car_red_t6@1\n",
      "  + 20.4*p_car_red_t4@0*p_car_red_t6@2 + 24.4*p_car_red_t4@1^2\n",
      "  + 48.8*p_car_red_t4@1*p_car_red_t4@2 + 20.4*p_car_red_t4@1*p_car_red_t5@0\n",
      "  + 40.8*p_car_red_t4@1*p_car_red_t5@1 + 40.8*p_car_red_t4@1*p_car_red_t5@2\n",
      "  + 20.4*p_car_red_t4@1*p_car_red_t6@0 + 40.8*p_car_red_t4@1*p_car_red_t6@1\n",
      "  + 40.8*p_car_red_t4@1*p_car_red_t6@2 + 24.4*p_car_red_t4@2^2\n",
      "  + 20.4*p_car_red_t4@2*p_car_red_t5@0 + 40.8*p_car_red_t4@2*p_car_red_t5@1\n",
      "  + 40.8*p_car_red_t4@2*p_car_red_t5@2 + 20.4*p_car_red_t4@2*p_car_red_t6@0\n",
      "  + 40.8*p_car_red_t4@2*p_car_red_t6@1 + 40.8*p_car_red_t4@2*p_car_red_t6@2\n",
      "  + 6.1*p_car_red_t5@0^2 + 24.4*p_car_red_t5@0*p_car_red_t5@1\n",
      "  + 24.4*p_car_red_t5@0*p_car_red_t5@2 + 10.2*p_car_red_t5@0*p_car_red_t6@0\n",
      "  + 20.4*p_car_red_t5@0*p_car_red_t6@1 + 20.4*p_car_red_t5@0*p_car_red_t6@2\n",
      "  + 24.4*p_car_red_t5@1^2 + 48.8*p_car_red_t5@1*p_car_red_t5@2\n",
      "  + 20.4*p_car_red_t5@1*p_car_red_t6@0 + 40.8*p_car_red_t5@1*p_car_red_t6@1\n",
      "  + 40.8*p_car_red_t5@1*p_car_red_t6@2 + 24.4*p_car_red_t5@2^2\n",
      "  + 20.4*p_car_red_t5@2*p_car_red_t6@0 + 40.8*p_car_red_t5@2*p_car_red_t6@1\n",
      "  + 40.8*p_car_red_t5@2*p_car_red_t6@2 + 6.1*p_car_red_t6@0^2\n",
      "  + 24.4*p_car_red_t6@0*p_car_red_t6@1 + 24.4*p_car_red_t6@0*p_car_red_t6@2\n",
      "  + 24.4*p_car_red_t6@1^2 + 48.8*p_car_red_t6@1*p_car_red_t6@2\n",
      "  + 24.4*p_car_red_t6@2^2 - 81.6*p_car_green_t0@0 - 163.2*p_car_green_t0@1\n",
      "  - 163.2*p_car_green_t0@2 - 81.6*p_car_green_t1@0 - 163.2*p_car_green_t1@1\n",
      "  - 163.2*p_car_green_t1@2 - 81.6*p_car_green_t2@0 - 163.2*p_car_green_t2@1\n",
      "  - 163.2*p_car_green_t2@2 - 81.6*p_car_green_t3@0 - 163.2*p_car_green_t3@1\n",
      "  - 163.2*p_car_green_t3@2 - 122.39999999999999*p_car_red_t0@0\n",
      "  - 244.79999999999998*p_car_red_t0@1 - 244.79999999999998*p_car_red_t0@2\n",
      "  - 122.39999999999999*p_car_red_t1@0 - 244.79999999999998*p_car_red_t1@1\n",
      "  - 244.79999999999998*p_car_red_t1@2 - 122.39999999999999*p_car_red_t2@0\n",
      "  - 244.79999999999998*p_car_red_t2@1 - 244.79999999999998*p_car_red_t2@2\n",
      "  - 122.39999999999999*p_car_red_t3@0 - 244.79999999999998*p_car_red_t3@1\n",
      "  - 244.79999999999998*p_car_red_t3@2 - 122.39999999999999*p_car_red_t4@0\n",
      "  - 244.79999999999998*p_car_red_t4@1 - 244.79999999999998*p_car_red_t4@2\n",
      "  - 122.39999999999999*p_car_red_t5@0 - 244.79999999999998*p_car_red_t5@1\n",
      "  - 244.79999999999998*p_car_red_t5@2 - 122.39999999999999*p_car_red_t6@0\n",
      "  - 244.79999999999998*p_car_red_t6@1 - 244.79999999999998*p_car_red_t6@2\n",
      "  + 1060.8\n",
      "\n",
      "Subject to\n",
      "  No constraints\n",
      "\n",
      "  Binary variables (42)\n",
      "    p_car_green_t0@0 p_car_green_t0@1 p_car_green_t0@2 p_car_green_t1@0\n",
      "    p_car_green_t1@1 p_car_green_t1@2 p_car_green_t2@0 p_car_green_t2@1\n",
      "    p_car_green_t2@2 p_car_green_t3@0 p_car_green_t3@1 p_car_green_t3@2\n",
      "    p_car_green_t4@0 p_car_green_t4@1 p_car_green_t4@2 p_car_green_t5@0\n",
      "    p_car_green_t5@1 p_car_green_t5@2 p_car_green_t6@0 p_car_green_t6@1\n",
      "    p_car_green_t6@2 p_car_red_t0@0 p_car_red_t0@1 p_car_red_t0@2 p_car_red_t1@0\n",
      "    p_car_red_t1@1 p_car_red_t1@2 p_car_red_t2@0 p_car_red_t2@1 p_car_red_t2@2\n",
      "    p_car_red_t3@0 p_car_red_t3@1 p_car_red_t3@2 p_car_red_t4@0 p_car_red_t4@1\n",
      "    p_car_red_t4@2 p_car_red_t5@0 p_car_red_t5@1 p_car_red_t5@2 p_car_red_t6@0\n",
      "    p_car_red_t6@1 p_car_red_t6@2\n",
      "\n"
     ]
    }
   ],
   "source": [
    "converter = Converter(penalty=5.1) #below penalty = 5 the QUIO will not solve the QCIO\n",
    "qubo = converter.convert(qcio)\n",
    "qubo.name = \"QUBO\"\n",
    "print(qubo.prettyprint())"
   ]
  },
  {
   "cell_type": "markdown",
   "metadata": {},
   "source": [
    "The number of variable got 3x as we went to the binart representation with 3 long bitstrings."
   ]
  },
  {
   "cell_type": "code",
   "execution_count": 17,
   "metadata": {},
   "outputs": [
    {
     "name": "stdout",
     "output_type": "stream",
     "text": [
      "Number integer variables: 14\n",
      "Number binary variables: 42\n"
     ]
    }
   ],
   "source": [
    "number_integer_variables = qcio.get_num_integer_vars()\n",
    "print(f\"Number integer variables: {number_integer_variables}\")\n",
    "number_binary_variables = qubo.get_num_binary_vars()\n",
    "print(f\"Number binary variables: {number_binary_variables}\")"
   ]
  },
  {
   "cell_type": "code",
   "execution_count": 18,
   "metadata": {},
   "outputs": [
    {
     "name": "stdout",
     "output_type": "stream",
     "text": [
      "Dimension: (42, 42)\n"
     ]
    }
   ],
   "source": [
    "A_tilde = qubo.objective.quadratic.to_array()\n",
    "print(f\"Dimension: {A_tilde.shape}\")"
   ]
  },
  {
   "cell_type": "code",
   "execution_count": 19,
   "metadata": {},
   "outputs": [
    {
     "data": {
      "text/plain": [
       "<matplotlib.lines.Line2D at 0x1f835af81c0>"
      ]
     },
     "execution_count": 19,
     "metadata": {},
     "output_type": "execute_result"
    },
    {
     "data": {
      "image/png": "[encoded data removed]",
      "text/plain": [
       "<Figure size 640x480 with 1 Axes>"
      ]
     },
     "metadata": {},
     "output_type": "display_data"
    }
   ],
   "source": [
    "import matplotlib.pyplot as plt\n",
    "fig = plt.figure()\n",
    "ax = fig.add_subplot(1, 1, 1)\n",
    "ax.spy(A_tilde, markersize=3)"
   ]
  },
  {
   "cell_type": "markdown",
   "metadata": {},
   "source": [
    "This above matrix is $\\tilde A$ that is the coefficient matrix of the quadratic term of $b$ in $f_3$.\n",
    "\n",
    "$f_3 = b^T \\tilde{A}_\\rho b + L_\\rho \\tilde{b} +\\tilde{c}_\\rho$\n",
    "\n",
    "Now we apply the previous classical solver on the same problem but now in its QUBO representation."
   ]
  },
  {
   "cell_type": "code",
   "execution_count": 20,
   "metadata": {},
   "outputs": [
    {
     "name": "stdout",
     "output_type": "stream",
     "text": [
      "minimum point (binary): b_min =  [0. 0. 0. 1. 1. 0. 1. 0. 1. 0. 1. 0. 0. 0. 0. 0. 0. 0. 0. 0. 0. 1. 0. 1.\n",
      " 0. 0. 0. 0. 0. 0. 1. 0. 0. 1. 0. 1. 0. 0. 1. 1. 0. 1.]\n",
      "minimum value: f_3(b_min) =  58.0\n"
     ]
    }
   ],
   "source": [
    "qubo_minimization_result = cplex_optimizer.solve(qubo)\n",
    "print(\"minimum point (binary): b_min = \", qubo_minimization_result.x)\n",
    "print(\"minimum value: f_3(b_min) = \", qubo_minimization_result.fval)"
   ]
  },
  {
   "cell_type": "markdown",
   "metadata": {},
   "source": [
    "Now we got the solution $b_{min}$ in binary. We can convert it back to see if it coincides with the integer $p_{min}$."
   ]
  },
  {
   "cell_type": "code",
   "execution_count": 21,
   "metadata": {},
   "outputs": [
    {
     "name": "stdout",
     "output_type": "stream",
     "text": [
      "minimum point (integer): p_min =  [0. 3. 3. 2. 0. 0. 0. 3. 0. 0. 1. 3. 2. 3.]\n",
      "minimum value: f_1(p_min) =  58.0\n",
      "minimum point feasible =  True\n"
     ]
    }
   ],
   "source": [
    "b_min = qubo_minimization_result.x\n",
    "p_min = converter.interpret(b_min)\n",
    "print(\"minimum point (integer): p_min = \", p_min)\n",
    "print(\"minimum value: f_1(p_min) = \", qcio.objective.evaluate(p_min))\n",
    "print(\"minimum point feasible = \", qcio.is_feasible(p_min))"
   ]
  },
  {
   "cell_type": "code",
   "execution_count": 22,
   "metadata": {},
   "outputs": [
    {
     "data": {
      "application/vnd.plotly.v1+json": {
       "config": {
        "plotlyServerURL": "https://plot.ly"
       },
       "data": [
        {
         "marker": {
          "color": "green",
          "size": 20,
          "symbol": "square"
         },
         "mode": "markers",
         "name": "car_green",
         "showlegend": true,
         "type": "scatter",
         "x": [],
         "y": []
        },
        {
         "marker": {
          "color": "red",
          "size": 20,
          "symbol": "square"
         },
         "mode": "markers",
         "name": "car_red",
         "showlegend": true,
         "type": "scatter",
         "x": [
          0.5,
          0.5,
          0.5
         ],
         "y": [
          0,
          1,
          2
         ]
        },
        {
         "marker": {
          "color": "green",
          "size": 20,
          "symbol": "square"
         },
         "mode": "markers",
         "name": "car_green",
         "showlegend": true,
         "type": "scatter",
         "x": [
          1.5,
          1.5,
          1.5
         ],
         "y": [
          0,
          1,
          2
         ]
        },
        {
         "marker": {
          "color": "red",
          "size": 20,
          "symbol": "square"
         },
         "mode": "markers",
         "name": "car_red",
         "showlegend": false,
         "type": "scatter",
         "x": [],
         "y": []
        },
        {
         "marker": {
          "color": "green",
          "size": 20,
          "symbol": "square"
         },
         "mode": "markers",
         "name": "car_green",
         "showlegend": false,
         "type": "scatter",
         "x": [
          2.5,
          2.5,
          2.5
         ],
         "y": [
          0,
          1,
          2
         ]
        },
        {
         "marker": {
          "color": "red",
          "size": 20,
          "symbol": "square"
         },
         "mode": "markers",
         "name": "car_red",
         "showlegend": false,
         "type": "scatter",
         "x": [],
         "y": []
        },
        {
         "marker": {
          "color": "green",
          "size": 20,
          "symbol": "square"
         },
         "mode": "markers",
         "name": "car_green",
         "showlegend": false,
         "type": "scatter",
         "x": [
          3.5,
          3.5
         ],
         "y": [
          0,
          1
         ]
        },
        {
         "marker": {
          "color": "red",
          "size": 20,
          "symbol": "square"
         },
         "mode": "markers",
         "name": "car_red",
         "showlegend": false,
         "type": "scatter",
         "x": [
          3.5
         ],
         "y": [
          2
         ]
        },
        {
         "marker": {
          "color": "green",
          "size": 20,
          "symbol": "square"
         },
         "mode": "markers",
         "name": "car_green",
         "showlegend": false,
         "type": "scatter",
         "x": [],
         "y": []
        },
        {
         "marker": {
          "color": "red",
          "size": 20,
          "symbol": "square"
         },
         "mode": "markers",
         "name": "car_red",
         "showlegend": false,
         "type": "scatter",
         "x": [
          4.5,
          4.5,
          4.5
         ],
         "y": [
          0,
          1,
          2
         ]
        },
        {
         "marker": {
          "color": "green",
          "size": 20,
          "symbol": "square"
         },
         "mode": "markers",
         "name": "car_green",
         "showlegend": false,
         "type": "scatter",
         "x": [],
         "y": []
        },
        {
         "marker": {
          "color": "red",
          "size": 20,
          "symbol": "square"
         },
         "mode": "markers",
         "name": "car_red",
         "showlegend": false,
         "type": "scatter",
         "x": [
          5.5,
          5.5
         ],
         "y": [
          0,
          1
         ]
        },
        {
         "marker": {
          "color": "green",
          "size": 20,
          "symbol": "square"
         },
         "mode": "markers",
         "name": "car_green",
         "showlegend": false,
         "type": "scatter",
         "x": [],
         "y": []
        },
        {
         "marker": {
          "color": "red",
          "size": 20,
          "symbol": "square"
         },
         "mode": "markers",
         "name": "car_red",
         "showlegend": false,
         "type": "scatter",
         "x": [
          6.5,
          6.5,
          6.5
         ],
         "y": [
          0,
          1,
          2
         ]
        }
       ],
       "layout": {
        "height": 300,
        "template": {
         "data": {
          "bar": [
           {
            "error_x": {
             "color": "#2a3f5f"
            },
            "error_y": {
             "color": "#2a3f5f"
            },
            "marker": {
             "line": {
              "color": "#E5ECF6",
              "width": 0.5
             },
             "pattern": {
              "fillmode": "overlay",
              "size": 10,
              "solidity": 0.2
             }
            },
            "type": "bar"
           }
          ],
          "barpolar": [
           {
            "marker": {
             "line": {
              "color": "#E5ECF6",
              "width": 0.5
             },
             "pattern": {
              "fillmode": "overlay",
              "size": 10,
              "solidity": 0.2
             }
            },
            "type": "barpolar"
           }
          ],
          "carpet": [
           {
            "aaxis": {
             "endlinecolor": "#2a3f5f",
             "gridcolor": "white",
             "linecolor": "white",
             "minorgridcolor": "white",
             "startlinecolor": "#2a3f5f"
            },
            "baxis": {
             "endlinecolor": "#2a3f5f",
             "gridcolor": "white",
             "linecolor": "white",
             "minorgridcolor": "white",
             "startlinecolor": "#2a3f5f"
            },
            "type": "carpet"
           }
          ],
          "choropleth": [
           {
            "colorbar": {
             "outlinewidth": 0,
             "ticks": ""
            },
            "type": "choropleth"
           }
          ],
          "contour": [
           {
            "colorbar": {
             "outlinewidth": 0,
             "ticks": ""
            },
            "colorscale": [
             [
              0,
              "#0d0887"
             ],
             [
              0.1111111111111111,
              "#46039f"
             ],
             [
              0.2222222222222222,
              "#7201a8"
             ],
             [
              0.3333333333333333,
              "#9c179e"
             ],
             [
              0.4444444444444444,
              "#bd3786"
             ],
             [
              0.5555555555555556,
              "#d8576b"
             ],
             [
              0.6666666666666666,
              "#ed7953"
             ],
             [
              0.7777777777777778,
              "#fb9f3a"
             ],
             [
              0.8888888888888888,
              "#fdca26"
             ],
             [
              1,
              "#f0f921"
             ]
            ],
            "type": "contour"
           }
          ],
          "contourcarpet": [
           {
            "colorbar": {
             "outlinewidth": 0,
             "ticks": ""
            },
            "type": "contourcarpet"
           }
          ],
          "heatmap": [
           {
            "colorbar": {
             "outlinewidth": 0,
             "ticks": ""
            },
            "colorscale": [
             [
              0,
              "#0d0887"
             ],
             [
              0.1111111111111111,
              "#46039f"
             ],
             [
              0.2222222222222222,
              "#7201a8"
             ],
             [
              0.3333333333333333,
              "#9c179e"
             ],
             [
              0.4444444444444444,
              "#bd3786"
             ],
             [
              0.5555555555555556,
              "#d8576b"
             ],
             [
              0.6666666666666666,
              "#ed7953"
             ],
             [
              0.7777777777777778,
              "#fb9f3a"
             ],
             [
              0.8888888888888888,
              "#fdca26"
             ],
             [
              1,
              "#f0f921"
             ]
            ],
            "type": "heatmap"
           }
          ],
          "heatmapgl": [
           {
            "colorbar": {
             "outlinewidth": 0,
             "ticks": ""
            },
            "colorscale": [
             [
              0,
              "#0d0887"
             ],
             [
              0.1111111111111111,
              "#46039f"
             ],
             [
              0.2222222222222222,
              "#7201a8"
             ],
             [
              0.3333333333333333,
              "#9c179e"
             ],
             [
              0.4444444444444444,
              "#bd3786"
             ],
             [
              0.5555555555555556,
              "#d8576b"
             ],
             [
              0.6666666666666666,
              "#ed7953"
             ],
             [
              0.7777777777777778,
              "#fb9f3a"
             ],
             [
              0.8888888888888888,
              "#fdca26"
             ],
             [
              1,
              "#f0f921"
             ]
            ],
            "type": "heatmapgl"
           }
          ],
          "histogram": [
           {
            "marker": {
             "pattern": {
              "fillmode": "overlay",
              "size": 10,
              "solidity": 0.2
             }
            },
            "type": "histogram"
           }
          ],
          "histogram2d": [
           {
            "colorbar": {
             "outlinewidth": 0,
             "ticks": ""
            },
            "colorscale": [
             [
              0,
              "#0d0887"
             ],
             [
              0.1111111111111111,
              "#46039f"
             ],
             [
              0.2222222222222222,
              "#7201a8"
             ],
             [
              0.3333333333333333,
              "#9c179e"
             ],
             [
              0.4444444444444444,
              "#bd3786"
             ],
             [
              0.5555555555555556,
              "#d8576b"
             ],
             [
              0.6666666666666666,
              "#ed7953"
             ],
             [
              0.7777777777777778,
              "#fb9f3a"
             ],
             [
              0.8888888888888888,
              "#fdca26"
             ],
             [
              1,
              "#f0f921"
             ]
            ],
            "type": "histogram2d"
           }
          ],
          "histogram2dcontour": [
           {
            "colorbar": {
             "outlinewidth": 0,
             "ticks": ""
            },
            "colorscale": [
             [
              0,
              "#0d0887"
             ],
             [
              0.1111111111111111,
              "#46039f"
             ],
             [
              0.2222222222222222,
              "#7201a8"
             ],
             [
              0.3333333333333333,
              "#9c179e"
             ],
             [
              0.4444444444444444,
              "#bd3786"
             ],
             [
              0.5555555555555556,
              "#d8576b"
             ],
             [
              0.6666666666666666,
              "#ed7953"
             ],
             [
              0.7777777777777778,
              "#fb9f3a"
             ],
             [
              0.8888888888888888,
              "#fdca26"
             ],
             [
              1,
              "#f0f921"
             ]
            ],
            "type": "histogram2dcontour"
           }
          ],
          "mesh3d": [
           {
            "colorbar": {
             "outlinewidth": 0,
             "ticks": ""
            },
            "type": "mesh3d"
           }
          ],
          "parcoords": [
           {
            "line": {
             "colorbar": {
              "outlinewidth": 0,
              "ticks": ""
             }
            },
            "type": "parcoords"
           }
          ],
          "pie": [
           {
            "automargin": true,
            "type": "pie"
           }
          ],
          "scatter": [
           {
            "fillpattern": {
             "fillmode": "overlay",
             "size": 10,
             "solidity": 0.2
            },
            "type": "scatter"
           }
          ],
          "scatter3d": [
           {
            "line": {
             "colorbar": {
              "outlinewidth": 0,
              "ticks": ""
             }
            },
            "marker": {
             "colorbar": {
              "outlinewidth": 0,
              "ticks": ""
             }
            },
            "type": "scatter3d"
           }
          ],
          "scattercarpet": [
           {
            "marker": {
             "colorbar": {
              "outlinewidth": 0,
              "ticks": ""
             }
            },
            "type": "scattercarpet"
           }
          ],
          "scattergeo": [
           {
            "marker": {
             "colorbar": {
              "outlinewidth": 0,
              "ticks": ""
             }
            },
            "type": "scattergeo"
           }
          ],
          "scattergl": [
           {
            "marker": {
             "colorbar": {
              "outlinewidth": 0,
              "ticks": ""
             }
            },
            "type": "scattergl"
           }
          ],
          "scattermapbox": [
           {
            "marker": {
             "colorbar": {
              "outlinewidth": 0,
              "ticks": ""
             }
            },
            "type": "scattermapbox"
           }
          ],
          "scatterpolar": [
           {
            "marker": {
             "colorbar": {
              "outlinewidth": 0,
              "ticks": ""
             }
            },
            "type": "scatterpolar"
           }
          ],
          "scatterpolargl": [
           {
            "marker": {
             "colorbar": {
              "outlinewidth": 0,
              "ticks": ""
             }
            },
            "type": "scatterpolargl"
           }
          ],
          "scatterternary": [
           {
            "marker": {
             "colorbar": {
              "outlinewidth": 0,
              "ticks": ""
             }
            },
            "type": "scatterternary"
           }
          ],
          "surface": [
           {
            "colorbar": {
             "outlinewidth": 0,
             "ticks": ""
            },
            "colorscale": [
             [
              0,
              "#0d0887"
             ],
             [
              0.1111111111111111,
              "#46039f"
             ],
             [
              0.2222222222222222,
              "#7201a8"
             ],
             [
              0.3333333333333333,
              "#9c179e"
             ],
             [
              0.4444444444444444,
              "#bd3786"
             ],
             [
              0.5555555555555556,
              "#d8576b"
             ],
             [
              0.6666666666666666,
              "#ed7953"
             ],
             [
              0.7777777777777778,
              "#fb9f3a"
             ],
             [
              0.8888888888888888,
              "#fdca26"
             ],
             [
              1,
              "#f0f921"
             ]
            ],
            "type": "surface"
           }
          ],
          "table": [
           {
            "cells": {
             "fill": {
              "color": "#EBF0F8"
             },
             "line": {
              "color": "white"
             }
            },
            "header": {
             "fill": {
              "color": "#C8D4E3"
             },
             "line": {
              "color": "white"
             }
            },
            "type": "table"
           }
          ]
         },
         "layout": {
          "annotationdefaults": {
           "arrowcolor": "#2a3f5f",
           "arrowhead": 0,
           "arrowwidth": 1
          },
          "autotypenumbers": "strict",
          "coloraxis": {
           "colorbar": {
            "outlinewidth": 0,
            "ticks": ""
           }
          },
          "colorscale": {
           "diverging": [
            [
             0,
             "#8e0152"
            ],
            [
             0.1,
             "#c51b7d"
            ],
            [
             0.2,
             "#de77ae"
            ],
            [
             0.3,
             "#f1b6da"
            ],
            [
             0.4,
             "#fde0ef"
            ],
            [
             0.5,
             "#f7f7f7"
            ],
            [
             0.6,
             "#e6f5d0"
            ],
            [
             0.7,
             "#b8e186"
            ],
            [
             0.8,
             "#7fbc41"
            ],
            [
             0.9,
             "#4d9221"
            ],
            [
             1,
             "#276419"
            ]
           ],
           "sequential": [
            [
             0,
             "#0d0887"
            ],
            [
             0.1111111111111111,
             "#46039f"
            ],
            [
             0.2222222222222222,
             "#7201a8"
            ],
            [
             0.3333333333333333,
             "#9c179e"
            ],
            [
             0.4444444444444444,
             "#bd3786"
            ],
            [
             0.5555555555555556,
             "#d8576b"
            ],
            [
             0.6666666666666666,
             "#ed7953"
            ],
            [
             0.7777777777777778,
             "#fb9f3a"
            ],
            [
             0.8888888888888888,
             "#fdca26"
            ],
            [
             1,
             "#f0f921"
            ]
           ],
           "sequentialminus": [
            [
             0,
             "#0d0887"
            ],
            [
             0.1111111111111111,
             "#46039f"
            ],
            [
             0.2222222222222222,
             "#7201a8"
            ],
            [
             0.3333333333333333,
             "#9c179e"
            ],
            [
             0.4444444444444444,
             "#bd3786"
            ],
            [
             0.5555555555555556,
             "#d8576b"
            ],
            [
             0.6666666666666666,
             "#ed7953"
            ],
            [
             0.7777777777777778,
             "#fb9f3a"
            ],
            [
             0.8888888888888888,
             "#fdca26"
            ],
            [
             1,
             "#f0f921"
            ]
           ]
          },
          "colorway": [
           "#636efa",
           "#EF553B",
           "#00cc96",
           "#ab63fa",
           "#FFA15A",
           "#19d3f3",
           "#FF6692",
           "#B6E880",
           "#FF97FF",
           "#FECB52"
          ],
          "font": {
           "color": "#2a3f5f"
          },
          "geo": {
           "bgcolor": "white",
           "lakecolor": "white",
           "landcolor": "#E5ECF6",
           "showlakes": true,
           "showland": true,
           "subunitcolor": "white"
          },
          "hoverlabel": {
           "align": "left"
          },
          "hovermode": "closest",
          "mapbox": {
           "style": "light"
          },
          "paper_bgcolor": "white",
          "plot_bgcolor": "#E5ECF6",
          "polar": {
           "angularaxis": {
            "gridcolor": "white",
            "linecolor": "white",
            "ticks": ""
           },
           "bgcolor": "#E5ECF6",
           "radialaxis": {
            "gridcolor": "white",
            "linecolor": "white",
            "ticks": ""
           }
          },
          "scene": {
           "xaxis": {
            "backgroundcolor": "#E5ECF6",
            "gridcolor": "white",
            "gridwidth": 2,
            "linecolor": "white",
            "showbackground": true,
            "ticks": "",
            "zerolinecolor": "white"
           },
           "yaxis": {
            "backgroundcolor": "#E5ECF6",
            "gridcolor": "white",
            "gridwidth": 2,
            "linecolor": "white",
            "showbackground": true,
            "ticks": "",
            "zerolinecolor": "white"
           },
           "zaxis": {
            "backgroundcolor": "#E5ECF6",
            "gridcolor": "white",
            "gridwidth": 2,
            "linecolor": "white",
            "showbackground": true,
            "ticks": "",
            "zerolinecolor": "white"
           }
          },
          "shapedefaults": {
           "line": {
            "color": "#2a3f5f"
           }
          },
          "ternary": {
           "aaxis": {
            "gridcolor": "white",
            "linecolor": "white",
            "ticks": ""
           },
           "baxis": {
            "gridcolor": "white",
            "linecolor": "white",
            "ticks": ""
           },
           "bgcolor": "#E5ECF6",
           "caxis": {
            "gridcolor": "white",
            "linecolor": "white",
            "ticks": ""
           }
          },
          "title": {
           "x": 0.05
          },
          "xaxis": {
           "automargin": true,
           "gridcolor": "white",
           "linecolor": "white",
           "ticks": "",
           "title": {
            "standoff": 15
           },
           "zerolinecolor": "white",
           "zerolinewidth": 2
          },
          "yaxis": {
           "automargin": true,
           "gridcolor": "white",
           "linecolor": "white",
           "ticks": "",
           "title": {
            "standoff": 15
           },
           "zerolinecolor": "white",
           "zerolinewidth": 2
          }
         }
        },
        "width": 400,
        "xaxis": {
         "dtick": 1,
         "range": [
          0.01,
          7
         ],
         "tick0": 1,
         "ticktext": [
          0,
          1,
          2,
          3,
          4,
          5,
          6
         ],
         "tickvals": [
          0.5,
          1.5,
          2.5,
          3.5,
          4.5,
          5.5,
          6.5
         ],
         "title": {
          "font": {
           "size": 12
          },
          "text": "time slot"
         }
        },
        "yaxis": {
         "range": [
          -0.6,
          5
         ],
         "ticktext": [
          0,
          1,
          2,
          3,
          4,
          5
         ],
         "tickvals": [
          -0.5,
          0.5,
          1.5,
          2.5,
          3.5,
          4.5
         ],
         "title": {
          "font": {
           "size": 12
          },
          "text": "charging level"
         },
         "zeroline": false
        }
       }
      }
     },
     "metadata": {},
     "output_type": "display_data"
    }
   ],
   "source": [
    "fig = plot_charging_schedule(charging_unit, p_min, marker_size=20)\n",
    "fig.update_layout(width=400, height=300)\n",
    "fig.show()"
   ]
  },
  {
   "cell_type": "markdown",
   "metadata": {},
   "source": [
    "Indeed it yields the same result."
   ]
  }
 ],
 "metadata": {
  "kernelspec": {
   "display_name": "base",
   "language": "python",
   "name": "python3"
  },
  "language_info": {
   "codemirror_mode": {
    "name": "ipython",
    "version": 3
   },
   "file_extension": ".py",
   "mimetype": "text/x-python",
   "name": "python",
   "nbconvert_exporter": "python",
   "pygments_lexer": "ipython3",
   "version": "3.9.13"
  }
 },
 "nbformat": 4,
 "nbformat_minor": 2
}
