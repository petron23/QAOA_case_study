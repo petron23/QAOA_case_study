{
 "cells": [
  {
   "cell_type": "markdown",
   "metadata": {},
   "source": [
    "We define classes for the problem."
   ]
  },
  {
   "cell_type": "code",
   "execution_count": 2,
   "metadata": {},
   "outputs": [],
   "source": [
    "from typing import List\n",
    "import numpy as np\n",
    "\n",
    "class Car:\n",
    "    def __init__(self,car_id: int, time_slots_at_charging_unit: List[int], required_energy: int)-> None :\n",
    "        self.car_id = car_id\n",
    "        self.time_slots_at_charging_unit = time_slots_at_charging_unit\n",
    "        self.required_energy = required_energy\n",
    "\n",
    "    def __str__(self) -> str:\n",
    "        return f\"Car {self.car_id}: \\n\" \\\n",
    "               f\" at charging station at time slots {self.time_slots_at_charging_unit} \\n \"\\\n",
    "               f\" requires {self.required_energy} energy units\"\n",
    "    \n",
    "\n",
    "class ChargingUnit:\n",
    "    def __init__(self, unit_name: str, num_charging_levels: int, num_time_slots: int) -> None:\n",
    "        self.unit_name = unit_name\n",
    "        self.num_charging_levels = num_charging_levels\n",
    "        self.num_time_slots = num_time_slots\n",
    "        \n",
    "        self.car_to_charge = []\n",
    "\n",
    "    def __str__(self) -> str:\n",
    "        info_cars_registered = \"\"\n",
    "        for car in self.cars_to_charge:\n",
    "            info_cars_registered = info_cars_registered + \" \" + car.car_id\n",
    "        return \"Charging unit with\\n\" \\\n",
    "            \" charging levels: \" \\\n",
    "            f\"{list(range(self.num_charging_levels))[1:-1]}\\n\" \\\n",
    "            \" time slots: \" \\\n",
    "            f\"{list(range(self.num_time_slots))[1:-1]}\\n\" \\\n",
    "            \" cars to charge:\" \\\n",
    "            + info_cars_registered\n",
    "    \n",
    "    def register_car_for_charging(self, car: Car) -> None:\n",
    "        if max(car.time_slots_at_charging_unit) > self.num_time_slots - 1:\n",
    "            raise ValueError(\"From car required time slots not compatible \"\n",
    "            \" with charging unit.\")\n",
    "        self.cars_to_charge.append(car)"
   ]
  },
  {
   "cell_type": "code",
   "execution_count": 1,
   "metadata": {},
   "outputs": [
    {
     "data": {
      "text/plain": [
       "2"
      ]
     },
     "execution_count": 1,
     "metadata": {},
     "output_type": "execute_result"
    }
   ],
   "source": []
  },
  {
   "cell_type": "code",
   "execution_count": null,
   "metadata": {},
   "outputs": [],
   "source": []
  }
 ],
 "metadata": {
  "kernelspec": {
   "display_name": "base",
   "language": "python",
   "name": "python3"
  },
  "language_info": {
   "codemirror_mode": {
    "name": "ipython",
    "version": 3
   },
   "file_extension": ".py",
   "mimetype": "text/x-python",
   "name": "python",
   "nbconvert_exporter": "python",
   "pygments_lexer": "ipython3",
   "version": "3.9.13"
  }
 },
 "nbformat": 4,
 "nbformat_minor": 2
}
